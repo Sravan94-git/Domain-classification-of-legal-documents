{
 "cells": [
  {
   "cell_type": "code",
   "execution_count": 63,
   "id": "dff8b6cc",
   "metadata": {
    "id": "dff8b6cc"
   },
   "outputs": [],
   "source": [
    "import pandas as pd\n",
    "import numpy as np\n",
    "import warnings\n",
    "warnings.filterwarnings(\"ignore\")\n",
    "warnings.filterwarnings(\"ignore\", category=DeprecationWarning)"
   ]
  },
  {
   "cell_type": "markdown",
   "id": "8607ad46",
   "metadata": {
    "id": "8607ad46"
   },
   "source": [
    "### Handeling the train data"
   ]
  },
  {
   "cell_type": "code",
   "execution_count": 64,
   "id": "e45e16c0",
   "metadata": {
    "colab": {
     "base_uri": "https://localhost:8080/",
     "height": 255
    },
    "id": "e45e16c0",
    "outputId": "0b4afb51-df2c-465a-b137-03465fe55b98"
   },
   "outputs": [
    {
     "data": {
      "text/html": [
       "<div>\n",
       "<style scoped>\n",
       "    .dataframe tbody tr th:only-of-type {\n",
       "        vertical-align: middle;\n",
       "    }\n",
       "\n",
       "    .dataframe tbody tr th {\n",
       "        vertical-align: top;\n",
       "    }\n",
       "\n",
       "    .dataframe thead th {\n",
       "        text-align: right;\n",
       "    }\n",
       "</style>\n",
       "<table border=\"1\" class=\"dataframe\">\n",
       "  <thead>\n",
       "    <tr style=\"text-align: right;\">\n",
       "      <th></th>\n",
       "      <th>0</th>\n",
       "      <th>1</th>\n",
       "      <th>2</th>\n",
       "      <th>3</th>\n",
       "      <th>4</th>\n",
       "      <th>5</th>\n",
       "      <th>6</th>\n",
       "      <th>7</th>\n",
       "      <th>8</th>\n",
       "      <th>9</th>\n",
       "      <th>...</th>\n",
       "      <th>290</th>\n",
       "      <th>291</th>\n",
       "      <th>292</th>\n",
       "      <th>293</th>\n",
       "      <th>294</th>\n",
       "      <th>295</th>\n",
       "      <th>296</th>\n",
       "      <th>297</th>\n",
       "      <th>298</th>\n",
       "      <th>299</th>\n",
       "    </tr>\n",
       "  </thead>\n",
       "  <tbody>\n",
       "    <tr>\n",
       "      <th>0</th>\n",
       "      <td>-0.063818</td>\n",
       "      <td>-0.002956</td>\n",
       "      <td>0.046252</td>\n",
       "      <td>0.025709</td>\n",
       "      <td>-0.039632</td>\n",
       "      <td>-0.027515</td>\n",
       "      <td>-0.019069</td>\n",
       "      <td>-0.017803</td>\n",
       "      <td>-0.019435</td>\n",
       "      <td>-0.010251</td>\n",
       "      <td>...</td>\n",
       "      <td>0.033231</td>\n",
       "      <td>-0.007925</td>\n",
       "      <td>-0.026086</td>\n",
       "      <td>-0.013389</td>\n",
       "      <td>0.026854</td>\n",
       "      <td>0.001910</td>\n",
       "      <td>0.018770</td>\n",
       "      <td>0.043188</td>\n",
       "      <td>0.013065</td>\n",
       "      <td>-0.008131</td>\n",
       "    </tr>\n",
       "    <tr>\n",
       "      <th>1</th>\n",
       "      <td>-0.021974</td>\n",
       "      <td>-0.015165</td>\n",
       "      <td>-0.005738</td>\n",
       "      <td>0.002587</td>\n",
       "      <td>0.017634</td>\n",
       "      <td>-0.007912</td>\n",
       "      <td>-0.029589</td>\n",
       "      <td>-0.000424</td>\n",
       "      <td>-0.000201</td>\n",
       "      <td>-0.016205</td>\n",
       "      <td>...</td>\n",
       "      <td>-0.004967</td>\n",
       "      <td>0.026013</td>\n",
       "      <td>-0.036620</td>\n",
       "      <td>-0.005342</td>\n",
       "      <td>0.021623</td>\n",
       "      <td>-0.017112</td>\n",
       "      <td>0.039968</td>\n",
       "      <td>0.042420</td>\n",
       "      <td>0.030354</td>\n",
       "      <td>-0.018815</td>\n",
       "    </tr>\n",
       "    <tr>\n",
       "      <th>2</th>\n",
       "      <td>0.021107</td>\n",
       "      <td>-0.019719</td>\n",
       "      <td>0.014171</td>\n",
       "      <td>0.005624</td>\n",
       "      <td>-0.006661</td>\n",
       "      <td>0.014543</td>\n",
       "      <td>-0.037427</td>\n",
       "      <td>-0.005945</td>\n",
       "      <td>0.029306</td>\n",
       "      <td>0.007444</td>\n",
       "      <td>...</td>\n",
       "      <td>0.008014</td>\n",
       "      <td>-0.023220</td>\n",
       "      <td>0.018026</td>\n",
       "      <td>-0.008823</td>\n",
       "      <td>-0.011469</td>\n",
       "      <td>-0.020614</td>\n",
       "      <td>0.043133</td>\n",
       "      <td>0.040183</td>\n",
       "      <td>0.023985</td>\n",
       "      <td>-0.017030</td>\n",
       "    </tr>\n",
       "    <tr>\n",
       "      <th>3</th>\n",
       "      <td>0.015203</td>\n",
       "      <td>-0.034075</td>\n",
       "      <td>-0.002269</td>\n",
       "      <td>0.004831</td>\n",
       "      <td>-0.033835</td>\n",
       "      <td>-0.021648</td>\n",
       "      <td>0.021952</td>\n",
       "      <td>0.016798</td>\n",
       "      <td>-0.013468</td>\n",
       "      <td>-0.022729</td>\n",
       "      <td>...</td>\n",
       "      <td>0.011612</td>\n",
       "      <td>-0.002233</td>\n",
       "      <td>0.008309</td>\n",
       "      <td>-0.036506</td>\n",
       "      <td>0.025897</td>\n",
       "      <td>-0.028291</td>\n",
       "      <td>0.015314</td>\n",
       "      <td>0.041089</td>\n",
       "      <td>0.031551</td>\n",
       "      <td>0.002842</td>\n",
       "    </tr>\n",
       "    <tr>\n",
       "      <th>4</th>\n",
       "      <td>0.014961</td>\n",
       "      <td>-0.002341</td>\n",
       "      <td>0.040177</td>\n",
       "      <td>0.025244</td>\n",
       "      <td>-0.000624</td>\n",
       "      <td>-0.025035</td>\n",
       "      <td>-0.014516</td>\n",
       "      <td>0.030175</td>\n",
       "      <td>-0.015999</td>\n",
       "      <td>0.013100</td>\n",
       "      <td>...</td>\n",
       "      <td>-0.050263</td>\n",
       "      <td>-0.017612</td>\n",
       "      <td>0.022691</td>\n",
       "      <td>0.034896</td>\n",
       "      <td>0.013537</td>\n",
       "      <td>0.008184</td>\n",
       "      <td>-0.020844</td>\n",
       "      <td>0.030162</td>\n",
       "      <td>0.007622</td>\n",
       "      <td>0.016819</td>\n",
       "    </tr>\n",
       "  </tbody>\n",
       "</table>\n",
       "<p>5 rows × 300 columns</p>\n",
       "</div>"
      ],
      "text/plain": [
       "        0         1         2         3         4         5         6    \\\n",
       "0 -0.063818 -0.002956  0.046252  0.025709 -0.039632 -0.027515 -0.019069   \n",
       "1 -0.021974 -0.015165 -0.005738  0.002587  0.017634 -0.007912 -0.029589   \n",
       "2  0.021107 -0.019719  0.014171  0.005624 -0.006661  0.014543 -0.037427   \n",
       "3  0.015203 -0.034075 -0.002269  0.004831 -0.033835 -0.021648  0.021952   \n",
       "4  0.014961 -0.002341  0.040177  0.025244 -0.000624 -0.025035 -0.014516   \n",
       "\n",
       "        7         8         9    ...       290       291       292       293  \\\n",
       "0 -0.017803 -0.019435 -0.010251  ...  0.033231 -0.007925 -0.026086 -0.013389   \n",
       "1 -0.000424 -0.000201 -0.016205  ... -0.004967  0.026013 -0.036620 -0.005342   \n",
       "2 -0.005945  0.029306  0.007444  ...  0.008014 -0.023220  0.018026 -0.008823   \n",
       "3  0.016798 -0.013468 -0.022729  ...  0.011612 -0.002233  0.008309 -0.036506   \n",
       "4  0.030175 -0.015999  0.013100  ... -0.050263 -0.017612  0.022691  0.034896   \n",
       "\n",
       "        294       295       296       297       298       299  \n",
       "0  0.026854  0.001910  0.018770  0.043188  0.013065 -0.008131  \n",
       "1  0.021623 -0.017112  0.039968  0.042420  0.030354 -0.018815  \n",
       "2 -0.011469 -0.020614  0.043133  0.040183  0.023985 -0.017030  \n",
       "3  0.025897 -0.028291  0.015314  0.041089  0.031551  0.002842  \n",
       "4  0.013537  0.008184 -0.020844  0.030162  0.007622  0.016819  \n",
       "\n",
       "[5 rows x 300 columns]"
      ]
     },
     "execution_count": 64,
     "metadata": {},
     "output_type": "execute_result"
    }
   ],
   "source": [
    "df_old_train=pd.read_excel(\"Fasttext_Embeddings.xlsx\")\n",
    "df_old_train.head()"
   ]
  },
  {
   "cell_type": "code",
   "execution_count": 65,
   "id": "29c43937",
   "metadata": {
    "colab": {
     "base_uri": "https://localhost:8080/",
     "height": 143
    },
    "id": "29c43937",
    "outputId": "f39be443-0bfd-4142-9d8e-9dc7483aa67f"
   },
   "outputs": [
    {
     "data": {
      "text/html": [
       "<div>\n",
       "<style scoped>\n",
       "    .dataframe tbody tr th:only-of-type {\n",
       "        vertical-align: middle;\n",
       "    }\n",
       "\n",
       "    .dataframe tbody tr th {\n",
       "        vertical-align: top;\n",
       "    }\n",
       "\n",
       "    .dataframe thead th {\n",
       "        text-align: right;\n",
       "    }\n",
       "</style>\n",
       "<table border=\"1\" class=\"dataframe\">\n",
       "  <thead>\n",
       "    <tr style=\"text-align: right;\">\n",
       "      <th></th>\n",
       "      <th>Golden summary</th>\n",
       "      <th>Golden Summary Translated</th>\n",
       "      <th>Domain</th>\n",
       "      <th>Class Label</th>\n",
       "    </tr>\n",
       "  </thead>\n",
       "  <tbody>\n",
       "    <tr>\n",
       "      <th>0</th>\n",
       "      <td>\"The appellant, a cooperative society, filed a...</td>\n",
       "      <td>\"అప్పీలెంట్ అనే సహకార సొసైటీ, రాజస్థాన్ హైకోర్...</td>\n",
       "      <td>Civil</td>\n",
       "      <td>0</td>\n",
       "    </tr>\n",
       "    <tr>\n",
       "      <th>1</th>\n",
       "      <td>\"The appellants were members of the East India...</td>\n",
       "      <td>\"అప్పీలుదారులు ఈస్ట్ ఇండియా కాటన్ అసోసియేషన్ ల...</td>\n",
       "      <td>Civil</td>\n",
       "      <td>0</td>\n",
       "    </tr>\n",
       "    <tr>\n",
       "      <th>2</th>\n",
       "      <td>\"Petitioner Rashid Ahmed is running a wholesal...</td>\n",
       "      <td>\"పిటిషనర్ రషీద్ అహ్మద్ ఉత్తర ప్రదేశ్ రాష్ట్రంల...</td>\n",
       "      <td>Civil</td>\n",
       "      <td>0</td>\n",
       "    </tr>\n",
       "  </tbody>\n",
       "</table>\n",
       "</div>"
      ],
      "text/plain": [
       "                                      Golden summary  \\\n",
       "0  \"The appellant, a cooperative society, filed a...   \n",
       "1  \"The appellants were members of the East India...   \n",
       "2  \"Petitioner Rashid Ahmed is running a wholesal...   \n",
       "\n",
       "                           Golden Summary Translated Domain  Class Label  \n",
       "0  \"అప్పీలెంట్ అనే సహకార సొసైటీ, రాజస్థాన్ హైకోర్...  Civil            0  \n",
       "1  \"అప్పీలుదారులు ఈస్ట్ ఇండియా కాటన్ అసోసియేషన్ ల...  Civil            0  \n",
       "2  \"పిటిషనర్ రషీద్ అహ్మద్ ఉత్తర ప్రదేశ్ రాష్ట్రంల...  Civil            0  "
      ]
     },
     "execution_count": 65,
     "metadata": {},
     "output_type": "execute_result"
    }
   ],
   "source": [
    "df_new_train=pd.read_excel(\"Translated_Output_File.xlsx\")\n",
    "df_new_train.head(3)"
   ]
  },
  {
   "cell_type": "code",
   "execution_count": 66,
   "id": "e2e65bc9",
   "metadata": {
    "colab": {
     "base_uri": "https://localhost:8080/"
    },
    "id": "e2e65bc9",
    "outputId": "9dc127ef-8047-428e-b625-0efdb5f9593f"
   },
   "outputs": [
    {
     "data": {
      "text/plain": [
       "(310, 300)"
      ]
     },
     "execution_count": 66,
     "metadata": {},
     "output_type": "execute_result"
    }
   ],
   "source": [
    "df_old_train.shape"
   ]
  },
  {
   "cell_type": "code",
   "execution_count": 67,
   "id": "c7007c2d",
   "metadata": {
    "colab": {
     "base_uri": "https://localhost:8080/"
    },
    "id": "c7007c2d",
    "outputId": "332db9be-5b2c-43c8-fb85-811859f35cbd"
   },
   "outputs": [
    {
     "data": {
      "text/plain": [
       "(310, 4)"
      ]
     },
     "execution_count": 67,
     "metadata": {},
     "output_type": "execute_result"
    }
   ],
   "source": [
    "df_new_train.shape"
   ]
  },
  {
   "cell_type": "code",
   "execution_count": 68,
   "id": "c73a3dda",
   "metadata": {
    "colab": {
     "base_uri": "https://localhost:8080/"
    },
    "id": "c73a3dda",
    "outputId": "2d748b73-dc13-4a2e-c96d-c98922d33395"
   },
   "outputs": [
    {
     "data": {
      "text/plain": [
       "Golden summary               0\n",
       "Golden Summary Translated    0\n",
       "Domain                       0\n",
       "Class Label                  0\n",
       "dtype: int64"
      ]
     },
     "execution_count": 68,
     "metadata": {},
     "output_type": "execute_result"
    }
   ],
   "source": [
    "df_new_train.isnull().sum()"
   ]
  },
  {
   "cell_type": "code",
   "execution_count": 69,
   "id": "8ab5c5ca",
   "metadata": {
    "id": "8ab5c5ca"
   },
   "outputs": [],
   "source": [
    "df_train=df_old_train"
   ]
  },
  {
   "cell_type": "code",
   "execution_count": 70,
   "id": "fbce9497",
   "metadata": {
    "id": "fbce9497"
   },
   "outputs": [],
   "source": [
    "target=df_new_train[\"Class Label\"]"
   ]
  },
  {
   "cell_type": "code",
   "execution_count": 71,
   "id": "1e7bd2fd",
   "metadata": {
    "colab": {
     "base_uri": "https://localhost:8080/"
    },
    "id": "1e7bd2fd",
    "outputId": "ac787e66-f7b1-444d-955e-bab529567258"
   },
   "outputs": [
    {
     "data": {
      "text/plain": [
       "(310,)"
      ]
     },
     "execution_count": 71,
     "metadata": {},
     "output_type": "execute_result"
    }
   ],
   "source": [
    "target.shape"
   ]
  },
  {
   "cell_type": "code",
   "execution_count": 72,
   "id": "66dec3c5",
   "metadata": {
    "id": "66dec3c5"
   },
   "outputs": [],
   "source": [
    "df_train[\"label\"]=target"
   ]
  },
  {
   "cell_type": "markdown",
   "id": "0a4e74c4",
   "metadata": {
    "id": "0a4e74c4"
   },
   "source": [
    "### Fill the null values"
   ]
  },
  {
   "cell_type": "code",
   "execution_count": 73,
   "id": "25dce0a1",
   "metadata": {
    "colab": {
     "base_uri": "https://localhost:8080/"
    },
    "id": "25dce0a1",
    "outputId": "1feb2566-170c-4bed-d6c5-fe74ee677250"
   },
   "outputs": [
    {
     "name": "stdout",
     "output_type": "stream",
     "text": [
      "The null values present in the data : 0\n"
     ]
    }
   ],
   "source": [
    "null_values=df_train.isnull().sum().sum()\n",
    "print(f\"The null values present in the data : {null_values}\")\n",
    "## drop null values\n",
    "df_train.dropna(subset=['label'], inplace=True)"
   ]
  },
  {
   "cell_type": "markdown",
   "id": "ef791d28",
   "metadata": {
    "id": "ef791d28"
   },
   "source": [
    "### Convert label into int"
   ]
  },
  {
   "cell_type": "code",
   "execution_count": 74,
   "id": "f411da80",
   "metadata": {
    "id": "f411da80"
   },
   "outputs": [],
   "source": [
    "df_train[\"label\"] = df_train[\"label\"].astype('int64')"
   ]
  },
  {
   "cell_type": "code",
   "execution_count": 75,
   "id": "1406370f",
   "metadata": {
    "colab": {
     "base_uri": "https://localhost:8080/",
     "height": 255
    },
    "id": "1406370f",
    "outputId": "6e0e3dd7-2837-43b6-d7fc-2d9c0412a6b2",
    "scrolled": true
   },
   "outputs": [
    {
     "data": {
      "text/html": [
       "<div>\n",
       "<style scoped>\n",
       "    .dataframe tbody tr th:only-of-type {\n",
       "        vertical-align: middle;\n",
       "    }\n",
       "\n",
       "    .dataframe tbody tr th {\n",
       "        vertical-align: top;\n",
       "    }\n",
       "\n",
       "    .dataframe thead th {\n",
       "        text-align: right;\n",
       "    }\n",
       "</style>\n",
       "<table border=\"1\" class=\"dataframe\">\n",
       "  <thead>\n",
       "    <tr style=\"text-align: right;\">\n",
       "      <th></th>\n",
       "      <th>0</th>\n",
       "      <th>1</th>\n",
       "      <th>2</th>\n",
       "      <th>3</th>\n",
       "      <th>4</th>\n",
       "      <th>5</th>\n",
       "      <th>6</th>\n",
       "      <th>7</th>\n",
       "      <th>8</th>\n",
       "      <th>9</th>\n",
       "      <th>...</th>\n",
       "      <th>291</th>\n",
       "      <th>292</th>\n",
       "      <th>293</th>\n",
       "      <th>294</th>\n",
       "      <th>295</th>\n",
       "      <th>296</th>\n",
       "      <th>297</th>\n",
       "      <th>298</th>\n",
       "      <th>299</th>\n",
       "      <th>label</th>\n",
       "    </tr>\n",
       "  </thead>\n",
       "  <tbody>\n",
       "    <tr>\n",
       "      <th>0</th>\n",
       "      <td>-0.063818</td>\n",
       "      <td>-0.002956</td>\n",
       "      <td>0.046252</td>\n",
       "      <td>0.025709</td>\n",
       "      <td>-0.039632</td>\n",
       "      <td>-0.027515</td>\n",
       "      <td>-0.019069</td>\n",
       "      <td>-0.017803</td>\n",
       "      <td>-0.019435</td>\n",
       "      <td>-0.010251</td>\n",
       "      <td>...</td>\n",
       "      <td>-0.007925</td>\n",
       "      <td>-0.026086</td>\n",
       "      <td>-0.013389</td>\n",
       "      <td>0.026854</td>\n",
       "      <td>0.001910</td>\n",
       "      <td>0.018770</td>\n",
       "      <td>0.043188</td>\n",
       "      <td>0.013065</td>\n",
       "      <td>-0.008131</td>\n",
       "      <td>0</td>\n",
       "    </tr>\n",
       "    <tr>\n",
       "      <th>1</th>\n",
       "      <td>-0.021974</td>\n",
       "      <td>-0.015165</td>\n",
       "      <td>-0.005738</td>\n",
       "      <td>0.002587</td>\n",
       "      <td>0.017634</td>\n",
       "      <td>-0.007912</td>\n",
       "      <td>-0.029589</td>\n",
       "      <td>-0.000424</td>\n",
       "      <td>-0.000201</td>\n",
       "      <td>-0.016205</td>\n",
       "      <td>...</td>\n",
       "      <td>0.026013</td>\n",
       "      <td>-0.036620</td>\n",
       "      <td>-0.005342</td>\n",
       "      <td>0.021623</td>\n",
       "      <td>-0.017112</td>\n",
       "      <td>0.039968</td>\n",
       "      <td>0.042420</td>\n",
       "      <td>0.030354</td>\n",
       "      <td>-0.018815</td>\n",
       "      <td>0</td>\n",
       "    </tr>\n",
       "    <tr>\n",
       "      <th>2</th>\n",
       "      <td>0.021107</td>\n",
       "      <td>-0.019719</td>\n",
       "      <td>0.014171</td>\n",
       "      <td>0.005624</td>\n",
       "      <td>-0.006661</td>\n",
       "      <td>0.014543</td>\n",
       "      <td>-0.037427</td>\n",
       "      <td>-0.005945</td>\n",
       "      <td>0.029306</td>\n",
       "      <td>0.007444</td>\n",
       "      <td>...</td>\n",
       "      <td>-0.023220</td>\n",
       "      <td>0.018026</td>\n",
       "      <td>-0.008823</td>\n",
       "      <td>-0.011469</td>\n",
       "      <td>-0.020614</td>\n",
       "      <td>0.043133</td>\n",
       "      <td>0.040183</td>\n",
       "      <td>0.023985</td>\n",
       "      <td>-0.017030</td>\n",
       "      <td>0</td>\n",
       "    </tr>\n",
       "    <tr>\n",
       "      <th>3</th>\n",
       "      <td>0.015203</td>\n",
       "      <td>-0.034075</td>\n",
       "      <td>-0.002269</td>\n",
       "      <td>0.004831</td>\n",
       "      <td>-0.033835</td>\n",
       "      <td>-0.021648</td>\n",
       "      <td>0.021952</td>\n",
       "      <td>0.016798</td>\n",
       "      <td>-0.013468</td>\n",
       "      <td>-0.022729</td>\n",
       "      <td>...</td>\n",
       "      <td>-0.002233</td>\n",
       "      <td>0.008309</td>\n",
       "      <td>-0.036506</td>\n",
       "      <td>0.025897</td>\n",
       "      <td>-0.028291</td>\n",
       "      <td>0.015314</td>\n",
       "      <td>0.041089</td>\n",
       "      <td>0.031551</td>\n",
       "      <td>0.002842</td>\n",
       "      <td>0</td>\n",
       "    </tr>\n",
       "    <tr>\n",
       "      <th>4</th>\n",
       "      <td>0.014961</td>\n",
       "      <td>-0.002341</td>\n",
       "      <td>0.040177</td>\n",
       "      <td>0.025244</td>\n",
       "      <td>-0.000624</td>\n",
       "      <td>-0.025035</td>\n",
       "      <td>-0.014516</td>\n",
       "      <td>0.030175</td>\n",
       "      <td>-0.015999</td>\n",
       "      <td>0.013100</td>\n",
       "      <td>...</td>\n",
       "      <td>-0.017612</td>\n",
       "      <td>0.022691</td>\n",
       "      <td>0.034896</td>\n",
       "      <td>0.013537</td>\n",
       "      <td>0.008184</td>\n",
       "      <td>-0.020844</td>\n",
       "      <td>0.030162</td>\n",
       "      <td>0.007622</td>\n",
       "      <td>0.016819</td>\n",
       "      <td>0</td>\n",
       "    </tr>\n",
       "  </tbody>\n",
       "</table>\n",
       "<p>5 rows × 301 columns</p>\n",
       "</div>"
      ],
      "text/plain": [
       "          0         1         2         3         4         5         6  \\\n",
       "0 -0.063818 -0.002956  0.046252  0.025709 -0.039632 -0.027515 -0.019069   \n",
       "1 -0.021974 -0.015165 -0.005738  0.002587  0.017634 -0.007912 -0.029589   \n",
       "2  0.021107 -0.019719  0.014171  0.005624 -0.006661  0.014543 -0.037427   \n",
       "3  0.015203 -0.034075 -0.002269  0.004831 -0.033835 -0.021648  0.021952   \n",
       "4  0.014961 -0.002341  0.040177  0.025244 -0.000624 -0.025035 -0.014516   \n",
       "\n",
       "          7         8         9  ...       291       292       293       294  \\\n",
       "0 -0.017803 -0.019435 -0.010251  ... -0.007925 -0.026086 -0.013389  0.026854   \n",
       "1 -0.000424 -0.000201 -0.016205  ...  0.026013 -0.036620 -0.005342  0.021623   \n",
       "2 -0.005945  0.029306  0.007444  ... -0.023220  0.018026 -0.008823 -0.011469   \n",
       "3  0.016798 -0.013468 -0.022729  ... -0.002233  0.008309 -0.036506  0.025897   \n",
       "4  0.030175 -0.015999  0.013100  ... -0.017612  0.022691  0.034896  0.013537   \n",
       "\n",
       "        295       296       297       298       299  label  \n",
       "0  0.001910  0.018770  0.043188  0.013065 -0.008131      0  \n",
       "1 -0.017112  0.039968  0.042420  0.030354 -0.018815      0  \n",
       "2 -0.020614  0.043133  0.040183  0.023985 -0.017030      0  \n",
       "3 -0.028291  0.015314  0.041089  0.031551  0.002842      0  \n",
       "4  0.008184 -0.020844  0.030162  0.007622  0.016819      0  \n",
       "\n",
       "[5 rows x 301 columns]"
      ]
     },
     "execution_count": 75,
     "metadata": {},
     "output_type": "execute_result"
    }
   ],
   "source": [
    "df_train.head()"
   ]
  },
  {
   "cell_type": "markdown",
   "id": "f00c7443",
   "metadata": {
    "id": "f00c7443"
   },
   "source": [
    "### Handleing test data"
   ]
  },
  {
   "cell_type": "code",
   "execution_count": 76,
   "id": "3291a59e",
   "metadata": {
    "colab": {
     "base_uri": "https://localhost:8080/",
     "height": 193
    },
    "id": "3291a59e",
    "outputId": "66ba7ab6-03e9-457d-814b-e65659f83d7e"
   },
   "outputs": [
    {
     "data": {
      "text/html": [
       "<div>\n",
       "<style scoped>\n",
       "    .dataframe tbody tr th:only-of-type {\n",
       "        vertical-align: middle;\n",
       "    }\n",
       "\n",
       "    .dataframe tbody tr th {\n",
       "        vertical-align: top;\n",
       "    }\n",
       "\n",
       "    .dataframe thead th {\n",
       "        text-align: right;\n",
       "    }\n",
       "</style>\n",
       "<table border=\"1\" class=\"dataframe\">\n",
       "  <thead>\n",
       "    <tr style=\"text-align: right;\">\n",
       "      <th></th>\n",
       "      <th>0</th>\n",
       "      <th>1</th>\n",
       "      <th>2</th>\n",
       "      <th>3</th>\n",
       "      <th>4</th>\n",
       "      <th>5</th>\n",
       "      <th>6</th>\n",
       "      <th>7</th>\n",
       "      <th>8</th>\n",
       "      <th>9</th>\n",
       "      <th>...</th>\n",
       "      <th>290</th>\n",
       "      <th>291</th>\n",
       "      <th>292</th>\n",
       "      <th>293</th>\n",
       "      <th>294</th>\n",
       "      <th>295</th>\n",
       "      <th>296</th>\n",
       "      <th>297</th>\n",
       "      <th>298</th>\n",
       "      <th>299</th>\n",
       "    </tr>\n",
       "  </thead>\n",
       "  <tbody>\n",
       "    <tr>\n",
       "      <th>0</th>\n",
       "      <td>-0.063818</td>\n",
       "      <td>-0.002956</td>\n",
       "      <td>0.046252</td>\n",
       "      <td>0.025709</td>\n",
       "      <td>-0.039632</td>\n",
       "      <td>-0.027515</td>\n",
       "      <td>-0.019069</td>\n",
       "      <td>-0.017803</td>\n",
       "      <td>-0.019435</td>\n",
       "      <td>-0.010251</td>\n",
       "      <td>...</td>\n",
       "      <td>0.033231</td>\n",
       "      <td>-0.007925</td>\n",
       "      <td>-0.026086</td>\n",
       "      <td>-0.013389</td>\n",
       "      <td>0.026854</td>\n",
       "      <td>0.001910</td>\n",
       "      <td>0.018770</td>\n",
       "      <td>0.043188</td>\n",
       "      <td>0.013065</td>\n",
       "      <td>-0.008131</td>\n",
       "    </tr>\n",
       "    <tr>\n",
       "      <th>1</th>\n",
       "      <td>-0.021974</td>\n",
       "      <td>-0.015165</td>\n",
       "      <td>-0.005738</td>\n",
       "      <td>0.002587</td>\n",
       "      <td>0.017634</td>\n",
       "      <td>-0.007912</td>\n",
       "      <td>-0.029589</td>\n",
       "      <td>-0.000424</td>\n",
       "      <td>-0.000201</td>\n",
       "      <td>-0.016205</td>\n",
       "      <td>...</td>\n",
       "      <td>-0.004967</td>\n",
       "      <td>0.026013</td>\n",
       "      <td>-0.036620</td>\n",
       "      <td>-0.005342</td>\n",
       "      <td>0.021623</td>\n",
       "      <td>-0.017112</td>\n",
       "      <td>0.039968</td>\n",
       "      <td>0.042420</td>\n",
       "      <td>0.030354</td>\n",
       "      <td>-0.018815</td>\n",
       "    </tr>\n",
       "    <tr>\n",
       "      <th>2</th>\n",
       "      <td>0.021107</td>\n",
       "      <td>-0.019719</td>\n",
       "      <td>0.014171</td>\n",
       "      <td>0.005624</td>\n",
       "      <td>-0.006661</td>\n",
       "      <td>0.014543</td>\n",
       "      <td>-0.037427</td>\n",
       "      <td>-0.005945</td>\n",
       "      <td>0.029306</td>\n",
       "      <td>0.007444</td>\n",
       "      <td>...</td>\n",
       "      <td>0.008014</td>\n",
       "      <td>-0.023220</td>\n",
       "      <td>0.018026</td>\n",
       "      <td>-0.008823</td>\n",
       "      <td>-0.011469</td>\n",
       "      <td>-0.020614</td>\n",
       "      <td>0.043133</td>\n",
       "      <td>0.040183</td>\n",
       "      <td>0.023985</td>\n",
       "      <td>-0.017030</td>\n",
       "    </tr>\n",
       "  </tbody>\n",
       "</table>\n",
       "<p>3 rows × 300 columns</p>\n",
       "</div>"
      ],
      "text/plain": [
       "        0         1         2         3         4         5         6    \\\n",
       "0 -0.063818 -0.002956  0.046252  0.025709 -0.039632 -0.027515 -0.019069   \n",
       "1 -0.021974 -0.015165 -0.005738  0.002587  0.017634 -0.007912 -0.029589   \n",
       "2  0.021107 -0.019719  0.014171  0.005624 -0.006661  0.014543 -0.037427   \n",
       "\n",
       "        7         8         9    ...       290       291       292       293  \\\n",
       "0 -0.017803 -0.019435 -0.010251  ...  0.033231 -0.007925 -0.026086 -0.013389   \n",
       "1 -0.000424 -0.000201 -0.016205  ... -0.004967  0.026013 -0.036620 -0.005342   \n",
       "2 -0.005945  0.029306  0.007444  ...  0.008014 -0.023220  0.018026 -0.008823   \n",
       "\n",
       "        294       295       296       297       298       299  \n",
       "0  0.026854  0.001910  0.018770  0.043188  0.013065 -0.008131  \n",
       "1  0.021623 -0.017112  0.039968  0.042420  0.030354 -0.018815  \n",
       "2 -0.011469 -0.020614  0.043133  0.040183  0.023985 -0.017030  \n",
       "\n",
       "[3 rows x 300 columns]"
      ]
     },
     "execution_count": 76,
     "metadata": {},
     "output_type": "execute_result"
    }
   ],
   "source": [
    "df_old_test=pd.read_excel(\"Fasttext_Embeddings.xlsx\")\n",
    "df_old_test.head(3)"
   ]
  },
  {
   "cell_type": "code",
   "execution_count": 77,
   "id": "0b47059f",
   "metadata": {
    "colab": {
     "base_uri": "https://localhost:8080/",
     "height": 143
    },
    "id": "0b47059f",
    "outputId": "d5b25132-1de7-42d9-ecdc-c40a71a0b02e"
   },
   "outputs": [
    {
     "data": {
      "text/html": [
       "<div>\n",
       "<style scoped>\n",
       "    .dataframe tbody tr th:only-of-type {\n",
       "        vertical-align: middle;\n",
       "    }\n",
       "\n",
       "    .dataframe tbody tr th {\n",
       "        vertical-align: top;\n",
       "    }\n",
       "\n",
       "    .dataframe thead th {\n",
       "        text-align: right;\n",
       "    }\n",
       "</style>\n",
       "<table border=\"1\" class=\"dataframe\">\n",
       "  <thead>\n",
       "    <tr style=\"text-align: right;\">\n",
       "      <th></th>\n",
       "      <th>Golden summary</th>\n",
       "      <th>Golden Summary Translated</th>\n",
       "      <th>Domain</th>\n",
       "      <th>Class Label</th>\n",
       "    </tr>\n",
       "  </thead>\n",
       "  <tbody>\n",
       "    <tr>\n",
       "      <th>0</th>\n",
       "      <td>\"The appellant, a cooperative society, filed a...</td>\n",
       "      <td>\"అప్పీలెంట్ అనే సహకార సొసైటీ, రాజస్థాన్ హైకోర్...</td>\n",
       "      <td>Civil</td>\n",
       "      <td>0</td>\n",
       "    </tr>\n",
       "    <tr>\n",
       "      <th>1</th>\n",
       "      <td>\"The appellants were members of the East India...</td>\n",
       "      <td>\"అప్పీలుదారులు ఈస్ట్ ఇండియా కాటన్ అసోసియేషన్ ల...</td>\n",
       "      <td>Civil</td>\n",
       "      <td>0</td>\n",
       "    </tr>\n",
       "    <tr>\n",
       "      <th>2</th>\n",
       "      <td>\"Petitioner Rashid Ahmed is running a wholesal...</td>\n",
       "      <td>\"పిటిషనర్ రషీద్ అహ్మద్ ఉత్తర ప్రదేశ్ రాష్ట్రంల...</td>\n",
       "      <td>Civil</td>\n",
       "      <td>0</td>\n",
       "    </tr>\n",
       "  </tbody>\n",
       "</table>\n",
       "</div>"
      ],
      "text/plain": [
       "                                      Golden summary  \\\n",
       "0  \"The appellant, a cooperative society, filed a...   \n",
       "1  \"The appellants were members of the East India...   \n",
       "2  \"Petitioner Rashid Ahmed is running a wholesal...   \n",
       "\n",
       "                           Golden Summary Translated Domain  Class Label  \n",
       "0  \"అప్పీలెంట్ అనే సహకార సొసైటీ, రాజస్థాన్ హైకోర్...  Civil            0  \n",
       "1  \"అప్పీలుదారులు ఈస్ట్ ఇండియా కాటన్ అసోసియేషన్ ల...  Civil            0  \n",
       "2  \"పిటిషనర్ రషీద్ అహ్మద్ ఉత్తర ప్రదేశ్ రాష్ట్రంల...  Civil            0  "
      ]
     },
     "execution_count": 77,
     "metadata": {},
     "output_type": "execute_result"
    }
   ],
   "source": [
    "df_new_test=pd.read_excel(\"Translated_Output_File.xlsx\")\n",
    "df_new_test.head(3)"
   ]
  },
  {
   "cell_type": "code",
   "execution_count": 78,
   "id": "eb54d5b2",
   "metadata": {
    "colab": {
     "base_uri": "https://localhost:8080/"
    },
    "id": "eb54d5b2",
    "outputId": "0731bb72-6246-466a-ce33-b4befb6d95f2"
   },
   "outputs": [
    {
     "data": {
      "text/plain": [
       "(310, 300)"
      ]
     },
     "execution_count": 78,
     "metadata": {},
     "output_type": "execute_result"
    }
   ],
   "source": [
    "df_old_test.shape"
   ]
  },
  {
   "cell_type": "code",
   "execution_count": 79,
   "id": "f8b104a0",
   "metadata": {
    "colab": {
     "base_uri": "https://localhost:8080/"
    },
    "id": "f8b104a0",
    "outputId": "86fba839-a7f5-401c-e96e-9ac152efccb2"
   },
   "outputs": [
    {
     "data": {
      "text/plain": [
       "(310, 4)"
      ]
     },
     "execution_count": 79,
     "metadata": {},
     "output_type": "execute_result"
    }
   ],
   "source": [
    "df_new_test.shape"
   ]
  },
  {
   "cell_type": "code",
   "execution_count": 80,
   "id": "0bd4b8bd",
   "metadata": {
    "id": "0bd4b8bd"
   },
   "outputs": [],
   "source": [
    "df_test=df_old_test"
   ]
  },
  {
   "cell_type": "code",
   "execution_count": 81,
   "id": "8b747698",
   "metadata": {
    "id": "8b747698"
   },
   "outputs": [],
   "source": [
    "df_test[\"label\"]=target"
   ]
  },
  {
   "cell_type": "code",
   "execution_count": 82,
   "id": "8e2a5cfe",
   "metadata": {
    "colab": {
     "base_uri": "https://localhost:8080/",
     "height": 193
    },
    "id": "8e2a5cfe",
    "outputId": "cc96ac5b-d33c-4462-c8c2-0b4ef0ff8f2a"
   },
   "outputs": [
    {
     "data": {
      "text/html": [
       "<div>\n",
       "<style scoped>\n",
       "    .dataframe tbody tr th:only-of-type {\n",
       "        vertical-align: middle;\n",
       "    }\n",
       "\n",
       "    .dataframe tbody tr th {\n",
       "        vertical-align: top;\n",
       "    }\n",
       "\n",
       "    .dataframe thead th {\n",
       "        text-align: right;\n",
       "    }\n",
       "</style>\n",
       "<table border=\"1\" class=\"dataframe\">\n",
       "  <thead>\n",
       "    <tr style=\"text-align: right;\">\n",
       "      <th></th>\n",
       "      <th>0</th>\n",
       "      <th>1</th>\n",
       "      <th>2</th>\n",
       "      <th>3</th>\n",
       "      <th>4</th>\n",
       "      <th>5</th>\n",
       "      <th>6</th>\n",
       "      <th>7</th>\n",
       "      <th>8</th>\n",
       "      <th>9</th>\n",
       "      <th>...</th>\n",
       "      <th>291</th>\n",
       "      <th>292</th>\n",
       "      <th>293</th>\n",
       "      <th>294</th>\n",
       "      <th>295</th>\n",
       "      <th>296</th>\n",
       "      <th>297</th>\n",
       "      <th>298</th>\n",
       "      <th>299</th>\n",
       "      <th>label</th>\n",
       "    </tr>\n",
       "  </thead>\n",
       "  <tbody>\n",
       "    <tr>\n",
       "      <th>0</th>\n",
       "      <td>-0.063818</td>\n",
       "      <td>-0.002956</td>\n",
       "      <td>0.046252</td>\n",
       "      <td>0.025709</td>\n",
       "      <td>-0.039632</td>\n",
       "      <td>-0.027515</td>\n",
       "      <td>-0.019069</td>\n",
       "      <td>-0.017803</td>\n",
       "      <td>-0.019435</td>\n",
       "      <td>-0.010251</td>\n",
       "      <td>...</td>\n",
       "      <td>-0.007925</td>\n",
       "      <td>-0.026086</td>\n",
       "      <td>-0.013389</td>\n",
       "      <td>0.026854</td>\n",
       "      <td>0.001910</td>\n",
       "      <td>0.018770</td>\n",
       "      <td>0.043188</td>\n",
       "      <td>0.013065</td>\n",
       "      <td>-0.008131</td>\n",
       "      <td>0</td>\n",
       "    </tr>\n",
       "    <tr>\n",
       "      <th>1</th>\n",
       "      <td>-0.021974</td>\n",
       "      <td>-0.015165</td>\n",
       "      <td>-0.005738</td>\n",
       "      <td>0.002587</td>\n",
       "      <td>0.017634</td>\n",
       "      <td>-0.007912</td>\n",
       "      <td>-0.029589</td>\n",
       "      <td>-0.000424</td>\n",
       "      <td>-0.000201</td>\n",
       "      <td>-0.016205</td>\n",
       "      <td>...</td>\n",
       "      <td>0.026013</td>\n",
       "      <td>-0.036620</td>\n",
       "      <td>-0.005342</td>\n",
       "      <td>0.021623</td>\n",
       "      <td>-0.017112</td>\n",
       "      <td>0.039968</td>\n",
       "      <td>0.042420</td>\n",
       "      <td>0.030354</td>\n",
       "      <td>-0.018815</td>\n",
       "      <td>0</td>\n",
       "    </tr>\n",
       "    <tr>\n",
       "      <th>2</th>\n",
       "      <td>0.021107</td>\n",
       "      <td>-0.019719</td>\n",
       "      <td>0.014171</td>\n",
       "      <td>0.005624</td>\n",
       "      <td>-0.006661</td>\n",
       "      <td>0.014543</td>\n",
       "      <td>-0.037427</td>\n",
       "      <td>-0.005945</td>\n",
       "      <td>0.029306</td>\n",
       "      <td>0.007444</td>\n",
       "      <td>...</td>\n",
       "      <td>-0.023220</td>\n",
       "      <td>0.018026</td>\n",
       "      <td>-0.008823</td>\n",
       "      <td>-0.011469</td>\n",
       "      <td>-0.020614</td>\n",
       "      <td>0.043133</td>\n",
       "      <td>0.040183</td>\n",
       "      <td>0.023985</td>\n",
       "      <td>-0.017030</td>\n",
       "      <td>0</td>\n",
       "    </tr>\n",
       "  </tbody>\n",
       "</table>\n",
       "<p>3 rows × 301 columns</p>\n",
       "</div>"
      ],
      "text/plain": [
       "          0         1         2         3         4         5         6  \\\n",
       "0 -0.063818 -0.002956  0.046252  0.025709 -0.039632 -0.027515 -0.019069   \n",
       "1 -0.021974 -0.015165 -0.005738  0.002587  0.017634 -0.007912 -0.029589   \n",
       "2  0.021107 -0.019719  0.014171  0.005624 -0.006661  0.014543 -0.037427   \n",
       "\n",
       "          7         8         9  ...       291       292       293       294  \\\n",
       "0 -0.017803 -0.019435 -0.010251  ... -0.007925 -0.026086 -0.013389  0.026854   \n",
       "1 -0.000424 -0.000201 -0.016205  ...  0.026013 -0.036620 -0.005342  0.021623   \n",
       "2 -0.005945  0.029306  0.007444  ... -0.023220  0.018026 -0.008823 -0.011469   \n",
       "\n",
       "        295       296       297       298       299  label  \n",
       "0  0.001910  0.018770  0.043188  0.013065 -0.008131      0  \n",
       "1 -0.017112  0.039968  0.042420  0.030354 -0.018815      0  \n",
       "2 -0.020614  0.043133  0.040183  0.023985 -0.017030      0  \n",
       "\n",
       "[3 rows x 301 columns]"
      ]
     },
     "execution_count": 82,
     "metadata": {},
     "output_type": "execute_result"
    }
   ],
   "source": [
    "df_test.head(3)"
   ]
  },
  {
   "cell_type": "markdown",
   "id": "86956894",
   "metadata": {
    "id": "86956894"
   },
   "source": [
    "### Understanding about the dataframe"
   ]
  },
  {
   "cell_type": "code",
   "execution_count": 83,
   "id": "c5d949e8",
   "metadata": {
    "colab": {
     "base_uri": "https://localhost:8080/"
    },
    "id": "c5d949e8",
    "outputId": "d6d403b1-d509-40c3-f699-a6f0f395193c"
   },
   "outputs": [
    {
     "name": "stdout",
     "output_type": "stream",
     "text": [
      "Number of columns: 301\n",
      "The shape of the data frame is : (310, 301)\n",
      "Unique value counts in 'Label' :  3\n"
     ]
    }
   ],
   "source": [
    "def information(df):\n",
    "    # Finding the numbers of columns\n",
    "\n",
    "    num_columns = len(df.columns)\n",
    "    print(\"Number of columns:\", num_columns)\n",
    "\n",
    "    # Shape of data frame\n",
    "    print(f\"The shape of the data frame is : {df.shape}\")\n",
    "\n",
    "    # The number of Unique values in label\n",
    "    unique_counts = df[\"label\"].value_counts()\n",
    "    print(f\"Unique value counts in 'Label' :  {len(unique_counts)}\")\n",
    "\n",
    "\n",
    "information(df_train)\n"
   ]
  },
  {
   "cell_type": "markdown",
   "id": "adb63a5a",
   "metadata": {
    "id": "adb63a5a"
   },
   "source": [
    "### Count of each label in dataframe"
   ]
  },
  {
   "cell_type": "code",
   "execution_count": 84,
   "id": "2acd8114",
   "metadata": {
    "colab": {
     "base_uri": "https://localhost:8080/"
    },
    "id": "2acd8114",
    "outputId": "1fc43617-6756-462c-d209-754f75128541"
   },
   "outputs": [
    {
     "name": "stdout",
     "output_type": "stream",
     "text": [
      "label\n",
      "0    170\n",
      "1    111\n",
      "2     29\n",
      "Name: count, dtype: int64\n"
     ]
    }
   ],
   "source": [
    "label_values = list(df_train['label'].unique())\n",
    "label_counts = df_train['label'].value_counts()\n",
    "print(label_counts)"
   ]
  },
  {
   "cell_type": "markdown",
   "id": "046390f5",
   "metadata": {
    "id": "046390f5"
   },
   "source": [
    "#### Import all modules"
   ]
  },
  {
   "cell_type": "code",
   "execution_count": 85,
   "id": "928e5e01",
   "metadata": {
    "id": "928e5e01"
   },
   "outputs": [],
   "source": [
    "# import all the modules\n",
    "from sklearn.model_selection import train_test_split\n",
    "from sklearn.neighbors import KNeighborsClassifier\n",
    "from sklearn.ensemble import RandomForestClassifier\n",
    "from sklearn.tree import DecisionTreeClassifier\n",
    "from sklearn.neural_network import MLPClassifier\n",
    "from sklearn.svm import SVC\n",
    "from sklearn.naive_bayes import MultinomialNB\n",
    "from sklearn.model_selection import GridSearchCV\n",
    "\n",
    "from sklearn.metrics import accuracy_score,precision_score,recall_score,f1_score\n",
    "from sklearn.model_selection import cross_val_score"
   ]
  },
  {
   "cell_type": "markdown",
   "id": "47f30dd0",
   "metadata": {
    "id": "47f30dd0"
   },
   "source": [
    "### Evaluation metrics for checking the accuracy"
   ]
  },
  {
   "cell_type": "code",
   "execution_count": 86,
   "id": "1a24ff1a",
   "metadata": {
    "id": "1a24ff1a"
   },
   "outputs": [],
   "source": [
    "def evaluate_preds(y_true,y_preds):\n",
    "    accuracy = accuracy_score(y_true,y_preds)\n",
    "    precision = precision_score(y_true,y_preds,average='macro')\n",
    "    recall = recall_score(y_true,y_preds,average='macro')\n",
    "    f1 = f1_score(y_true,y_preds,average='macro')\n",
    "    metric_dict = { \"accuracy\"   : round(accuracy,2),\n",
    "                    \"precision\"  : round(precision,2),\n",
    "                    \"recall\"     : round(recall,2),\n",
    "                    \"f1 \"        : round(f1,2)\n",
    "                  }\n",
    "\n",
    "    print(f\"Acc        : {accuracy*100:.2f}%\")\n",
    "    print(f\"Precision  : {precision*100:.2f}%\")\n",
    "    print(f\"Recall     : {recall*100:.2f}%\")\n",
    "    print(f\"F1_score   : {((2*precision*recall)/(precision+recall))*100:.2f}%\")\n",
    "    return metric_dict"
   ]
  },
  {
   "cell_type": "code",
   "execution_count": 87,
   "id": "18a8573f",
   "metadata": {
    "id": "18a8573f"
   },
   "outputs": [],
   "source": [
    "def cross_fun(clf,x,y):\n",
    "    cv_score=cross_val_score(clf,x,y,cv=5)\n",
    "    print(f\"The cross validation accuracy MEAN is : {np.mean(cv_score)*100:.2f}%\")\n",
    "    print(f\"The cross validation accuracy STD  is : {np.std(cv_score)*100:.2f}\")"
   ]
  },
  {
   "cell_type": "markdown",
   "id": "c95f4e9e",
   "metadata": {
    "id": "c95f4e9e"
   },
   "source": [
    "#### Prepare the data for train"
   ]
  },
  {
   "cell_type": "code",
   "execution_count": 88,
   "id": "473f75d2",
   "metadata": {
    "id": "473f75d2"
   },
   "outputs": [],
   "source": [
    "x = df_train.drop('label', axis=1)# Features\n",
    "y  = df_train['label']  # Target  s"
   ]
  },
  {
   "cell_type": "code",
   "execution_count": 89,
   "id": "8aba4b8a",
   "metadata": {
    "id": "8aba4b8a"
   },
   "outputs": [],
   "source": [
    "def model_training(df,clf):\n",
    "    x = df.drop('label', axis=1)# Features\n",
    "    y = df['label']  # Target\n",
    "\n",
    "    # Splitting the data into train and test sets\n",
    "    x_train, x_test, y_train, y_test = train_test_split(x, y, test_size=0.4, random_state=42)\n",
    "\n",
    "\n",
    "    clf.fit(x_train, y_train)\n",
    "\n",
    "    y_test_preds = clf.predict(x_test.values)\n",
    "    y_train_preds= clf.predict(x_train.values)\n",
    "\n",
    "\n",
    "\n",
    "    print(f\"Report for train data\")\n",
    "    evaluate_preds(y_train,y_train_preds)\n",
    "    print(\"  \")\n",
    "    print(\"  \")\n",
    "    print(\"  \")\n",
    "    print(f\"Report for test data\")\n",
    "    evaluate_preds(y_test,y_test_preds)\n",
    "\n",
    "    print(\" \")\n",
    "    print(\" \")\n",
    "    print(f\"N FOLD SCORE\")\n",
    "    cross_fun(clf,x,y)"
   ]
  },
  {
   "cell_type": "markdown",
   "id": "b5160af6",
   "metadata": {
    "id": "b5160af6"
   },
   "source": [
    "### KNN model"
   ]
  },
  {
   "cell_type": "code",
   "execution_count": 90,
   "id": "b8bceefd",
   "metadata": {
    "colab": {
     "base_uri": "https://localhost:8080/"
    },
    "id": "b8bceefd",
    "outputId": "e5b926b6-5cae-4f61-8ddb-16c521d26926"
   },
   "outputs": [
    {
     "name": "stdout",
     "output_type": "stream",
     "text": [
      "Report for train data\n",
      "Acc        : 62.90%\n",
      "Precision  : 41.88%\n",
      "Recall     : 47.68%\n",
      "F1_score   : 44.59%\n",
      "  \n",
      "  \n",
      "  \n",
      "Report for test data\n",
      "Acc        : 47.58%\n",
      "Precision  : 32.24%\n",
      "Recall     : 34.59%\n",
      "F1_score   : 33.37%\n",
      " \n",
      " \n",
      "N FOLD SCORE\n",
      "The cross validation accuracy MEAN is : nan%\n",
      "The cross validation accuracy STD  is : nan\n"
     ]
    }
   ],
   "source": [
    "model_training(df_train,KNeighborsClassifier(n_neighbors=5))"
   ]
  },
  {
   "cell_type": "markdown",
   "id": "1c7eb737",
   "metadata": {
    "id": "1c7eb737"
   },
   "source": [
    "### Random Forest"
   ]
  },
  {
   "cell_type": "code",
   "execution_count": 91,
   "id": "0afb39fe",
   "metadata": {
    "colab": {
     "base_uri": "https://localhost:8080/"
    },
    "id": "0afb39fe",
    "outputId": "a193b269-5f27-4b6d-e608-7019a4c574c5"
   },
   "outputs": [
    {
     "name": "stdout",
     "output_type": "stream",
     "text": [
      "Report for train data\n",
      "Acc        : 76.88%\n",
      "Precision  : 87.05%\n",
      "Recall     : 68.39%\n",
      "F1_score   : 76.60%\n",
      "  \n",
      "  \n",
      "  \n",
      "Report for test data\n",
      "Acc        : 61.29%\n",
      "Precision  : 40.49%\n",
      "Recall     : 37.57%\n",
      "F1_score   : 38.98%\n",
      " \n",
      " \n",
      "N FOLD SCORE\n",
      "The cross validation accuracy MEAN is : 53.87%\n",
      "The cross validation accuracy STD  is : 5.26\n"
     ]
    }
   ],
   "source": [
    "model_training(df_train,RandomForestClassifier())"
   ]
  },
  {
   "cell_type": "markdown",
   "id": "a4473782",
   "metadata": {
    "id": "a4473782"
   },
   "source": [
    "### Decision Trees"
   ]
  },
  {
   "cell_type": "code",
   "execution_count": 92,
   "id": "fc95ed3e",
   "metadata": {
    "colab": {
     "base_uri": "https://localhost:8080/"
    },
    "id": "fc95ed3e",
    "outputId": "e38e9427-da90-4de3-a8f2-e749193fcaa4"
   },
   "outputs": [
    {
     "name": "stdout",
     "output_type": "stream",
     "text": [
      "Report for train data\n",
      "Acc        : 76.88%\n",
      "Precision  : 89.00%\n",
      "Recall     : 67.95%\n",
      "F1_score   : 77.06%\n",
      "  \n",
      "  \n",
      "  \n",
      "Report for test data\n",
      "Acc        : 50.81%\n",
      "Precision  : 31.11%\n",
      "Recall     : 31.00%\n",
      "F1_score   : 31.05%\n",
      " \n",
      " \n",
      "N FOLD SCORE\n",
      "The cross validation accuracy MEAN is : 48.06%\n",
      "The cross validation accuracy STD  is : 3.87\n"
     ]
    }
   ],
   "source": [
    "model_training(df_train,DecisionTreeClassifier(random_state=42))"
   ]
  },
  {
   "cell_type": "markdown",
   "id": "56a87eb8",
   "metadata": {
    "id": "56a87eb8"
   },
   "source": [
    "### Multi Layer Perceptron"
   ]
  },
  {
   "cell_type": "code",
   "execution_count": 93,
   "id": "cec6e096",
   "metadata": {
    "colab": {
     "base_uri": "https://localhost:8080/"
    },
    "id": "cec6e096",
    "outputId": "9805165b-2117-4069-ba39-00c95b1b4bda"
   },
   "outputs": [
    {
     "name": "stdout",
     "output_type": "stream",
     "text": [
      "Report for train data\n",
      "Acc        : 76.88%\n",
      "Precision  : 86.04%\n",
      "Recall     : 68.39%\n",
      "F1_score   : 76.21%\n",
      "  \n",
      "  \n",
      "  \n",
      "Report for test data\n",
      "Acc        : 53.23%\n",
      "Precision  : 30.20%\n",
      "Recall     : 32.69%\n",
      "F1_score   : 31.39%\n",
      " \n",
      " \n",
      "N FOLD SCORE\n",
      "The cross validation accuracy MEAN is : 50.97%\n",
      "The cross validation accuracy STD  is : 5.16\n"
     ]
    }
   ],
   "source": [
    "mlp = MLPClassifier(hidden_layer_sizes=(100, 50), max_iter=500, alpha=0.0001,\n",
    "                    solver='adam', verbose=False, random_state=42, tol=0.0001)\n",
    "model_training(df_train,mlp)"
   ]
  },
  {
   "cell_type": "markdown",
   "id": "f41f3575",
   "metadata": {
    "id": "f41f3575"
   },
   "source": [
    "### SVM"
   ]
  },
  {
   "cell_type": "code",
   "execution_count": 94,
   "id": "f1d0f08c",
   "metadata": {
    "colab": {
     "base_uri": "https://localhost:8080/"
    },
    "id": "f1d0f08c",
    "outputId": "38a8d213-e85d-4111-adcd-808cb0180b74"
   },
   "outputs": [
    {
     "name": "stdout",
     "output_type": "stream",
     "text": [
      "Report for train data\n",
      "Acc        : 62.90%\n",
      "Precision  : 84.10%\n",
      "Recall     : 49.87%\n",
      "F1_score   : 62.61%\n",
      "  \n",
      "  \n",
      "  \n",
      "Report for test data\n",
      "Acc        : 57.26%\n",
      "Precision  : 27.78%\n",
      "Recall     : 32.74%\n",
      "F1_score   : 30.05%\n",
      " \n",
      " \n",
      "N FOLD SCORE\n",
      "The cross validation accuracy MEAN is : 52.58%\n",
      "The cross validation accuracy STD  is : 4.03\n"
     ]
    }
   ],
   "source": [
    "svm = SVC(kernel='rbf', random_state=42)\n",
    "model_training(df_train,svm)"
   ]
  },
  {
   "cell_type": "markdown",
   "id": "b5f17abb",
   "metadata": {
    "id": "b5f17abb"
   },
   "source": [
    "### Logistic Regression"
   ]
  },
  {
   "cell_type": "code",
   "execution_count": 95,
   "id": "40435f21",
   "metadata": {
    "colab": {
     "base_uri": "https://localhost:8080/"
    },
    "id": "40435f21",
    "outputId": "bef9fca6-c88b-494b-9148-fd68c02c0f3c"
   },
   "outputs": [
    {
     "name": "stdout",
     "output_type": "stream",
     "text": [
      "Report for train data\n",
      "Acc        : 58.06%\n",
      "Precision  : 49.27%\n",
      "Recall     : 38.87%\n",
      "F1_score   : 43.46%\n",
      "  \n",
      "  \n",
      "  \n",
      "Report for test data\n",
      "Acc        : 55.65%\n",
      "Precision  : 24.76%\n",
      "Recall     : 31.83%\n",
      "F1_score   : 27.85%\n",
      " \n",
      " \n",
      "N FOLD SCORE\n",
      "The cross validation accuracy MEAN is : 50.97%\n",
      "The cross validation accuracy STD  is : 4.16\n"
     ]
    }
   ],
   "source": [
    "from sklearn.linear_model import LogisticRegression\n",
    "log_reg = LogisticRegression(multi_class='multinomial', solver='lbfgs')\n",
    "model_training(df_train,log_reg)"
   ]
  },
  {
   "cell_type": "code",
   "execution_count": 96,
   "id": "a933d886",
   "metadata": {},
   "outputs": [
    {
     "data": {
      "text/html": [
       "<div>\n",
       "<style scoped>\n",
       "    .dataframe tbody tr th:only-of-type {\n",
       "        vertical-align: middle;\n",
       "    }\n",
       "\n",
       "    .dataframe tbody tr th {\n",
       "        vertical-align: top;\n",
       "    }\n",
       "\n",
       "    .dataframe thead th {\n",
       "        text-align: right;\n",
       "    }\n",
       "</style>\n",
       "<table border=\"1\" class=\"dataframe\">\n",
       "  <thead>\n",
       "    <tr style=\"text-align: right;\">\n",
       "      <th></th>\n",
       "      <th>0</th>\n",
       "      <th>1</th>\n",
       "      <th>2</th>\n",
       "      <th>3</th>\n",
       "      <th>4</th>\n",
       "      <th>5</th>\n",
       "      <th>6</th>\n",
       "      <th>7</th>\n",
       "      <th>8</th>\n",
       "      <th>9</th>\n",
       "      <th>...</th>\n",
       "      <th>291</th>\n",
       "      <th>292</th>\n",
       "      <th>293</th>\n",
       "      <th>294</th>\n",
       "      <th>295</th>\n",
       "      <th>296</th>\n",
       "      <th>297</th>\n",
       "      <th>298</th>\n",
       "      <th>299</th>\n",
       "      <th>label</th>\n",
       "    </tr>\n",
       "  </thead>\n",
       "  <tbody>\n",
       "    <tr>\n",
       "      <th>0</th>\n",
       "      <td>-0.063818</td>\n",
       "      <td>-0.002956</td>\n",
       "      <td>0.046252</td>\n",
       "      <td>0.025709</td>\n",
       "      <td>-0.039632</td>\n",
       "      <td>-0.027515</td>\n",
       "      <td>-0.019069</td>\n",
       "      <td>-0.017803</td>\n",
       "      <td>-0.019435</td>\n",
       "      <td>-0.010251</td>\n",
       "      <td>...</td>\n",
       "      <td>-0.007925</td>\n",
       "      <td>-0.026086</td>\n",
       "      <td>-0.013389</td>\n",
       "      <td>0.026854</td>\n",
       "      <td>0.001910</td>\n",
       "      <td>0.018770</td>\n",
       "      <td>0.043188</td>\n",
       "      <td>0.013065</td>\n",
       "      <td>-0.008131</td>\n",
       "      <td>0</td>\n",
       "    </tr>\n",
       "    <tr>\n",
       "      <th>1</th>\n",
       "      <td>-0.021974</td>\n",
       "      <td>-0.015165</td>\n",
       "      <td>-0.005738</td>\n",
       "      <td>0.002587</td>\n",
       "      <td>0.017634</td>\n",
       "      <td>-0.007912</td>\n",
       "      <td>-0.029589</td>\n",
       "      <td>-0.000424</td>\n",
       "      <td>-0.000201</td>\n",
       "      <td>-0.016205</td>\n",
       "      <td>...</td>\n",
       "      <td>0.026013</td>\n",
       "      <td>-0.036620</td>\n",
       "      <td>-0.005342</td>\n",
       "      <td>0.021623</td>\n",
       "      <td>-0.017112</td>\n",
       "      <td>0.039968</td>\n",
       "      <td>0.042420</td>\n",
       "      <td>0.030354</td>\n",
       "      <td>-0.018815</td>\n",
       "      <td>0</td>\n",
       "    </tr>\n",
       "    <tr>\n",
       "      <th>2</th>\n",
       "      <td>0.021107</td>\n",
       "      <td>-0.019719</td>\n",
       "      <td>0.014171</td>\n",
       "      <td>0.005624</td>\n",
       "      <td>-0.006661</td>\n",
       "      <td>0.014543</td>\n",
       "      <td>-0.037427</td>\n",
       "      <td>-0.005945</td>\n",
       "      <td>0.029306</td>\n",
       "      <td>0.007444</td>\n",
       "      <td>...</td>\n",
       "      <td>-0.023220</td>\n",
       "      <td>0.018026</td>\n",
       "      <td>-0.008823</td>\n",
       "      <td>-0.011469</td>\n",
       "      <td>-0.020614</td>\n",
       "      <td>0.043133</td>\n",
       "      <td>0.040183</td>\n",
       "      <td>0.023985</td>\n",
       "      <td>-0.017030</td>\n",
       "      <td>0</td>\n",
       "    </tr>\n",
       "    <tr>\n",
       "      <th>3</th>\n",
       "      <td>0.015203</td>\n",
       "      <td>-0.034075</td>\n",
       "      <td>-0.002269</td>\n",
       "      <td>0.004831</td>\n",
       "      <td>-0.033835</td>\n",
       "      <td>-0.021648</td>\n",
       "      <td>0.021952</td>\n",
       "      <td>0.016798</td>\n",
       "      <td>-0.013468</td>\n",
       "      <td>-0.022729</td>\n",
       "      <td>...</td>\n",
       "      <td>-0.002233</td>\n",
       "      <td>0.008309</td>\n",
       "      <td>-0.036506</td>\n",
       "      <td>0.025897</td>\n",
       "      <td>-0.028291</td>\n",
       "      <td>0.015314</td>\n",
       "      <td>0.041089</td>\n",
       "      <td>0.031551</td>\n",
       "      <td>0.002842</td>\n",
       "      <td>0</td>\n",
       "    </tr>\n",
       "    <tr>\n",
       "      <th>4</th>\n",
       "      <td>0.014961</td>\n",
       "      <td>-0.002341</td>\n",
       "      <td>0.040177</td>\n",
       "      <td>0.025244</td>\n",
       "      <td>-0.000624</td>\n",
       "      <td>-0.025035</td>\n",
       "      <td>-0.014516</td>\n",
       "      <td>0.030175</td>\n",
       "      <td>-0.015999</td>\n",
       "      <td>0.013100</td>\n",
       "      <td>...</td>\n",
       "      <td>-0.017612</td>\n",
       "      <td>0.022691</td>\n",
       "      <td>0.034896</td>\n",
       "      <td>0.013537</td>\n",
       "      <td>0.008184</td>\n",
       "      <td>-0.020844</td>\n",
       "      <td>0.030162</td>\n",
       "      <td>0.007622</td>\n",
       "      <td>0.016819</td>\n",
       "      <td>0</td>\n",
       "    </tr>\n",
       "  </tbody>\n",
       "</table>\n",
       "<p>5 rows × 301 columns</p>\n",
       "</div>"
      ],
      "text/plain": [
       "          0         1         2         3         4         5         6  \\\n",
       "0 -0.063818 -0.002956  0.046252  0.025709 -0.039632 -0.027515 -0.019069   \n",
       "1 -0.021974 -0.015165 -0.005738  0.002587  0.017634 -0.007912 -0.029589   \n",
       "2  0.021107 -0.019719  0.014171  0.005624 -0.006661  0.014543 -0.037427   \n",
       "3  0.015203 -0.034075 -0.002269  0.004831 -0.033835 -0.021648  0.021952   \n",
       "4  0.014961 -0.002341  0.040177  0.025244 -0.000624 -0.025035 -0.014516   \n",
       "\n",
       "          7         8         9  ...       291       292       293       294  \\\n",
       "0 -0.017803 -0.019435 -0.010251  ... -0.007925 -0.026086 -0.013389  0.026854   \n",
       "1 -0.000424 -0.000201 -0.016205  ...  0.026013 -0.036620 -0.005342  0.021623   \n",
       "2 -0.005945  0.029306  0.007444  ... -0.023220  0.018026 -0.008823 -0.011469   \n",
       "3  0.016798 -0.013468 -0.022729  ... -0.002233  0.008309 -0.036506  0.025897   \n",
       "4  0.030175 -0.015999  0.013100  ... -0.017612  0.022691  0.034896  0.013537   \n",
       "\n",
       "        295       296       297       298       299  label  \n",
       "0  0.001910  0.018770  0.043188  0.013065 -0.008131      0  \n",
       "1 -0.017112  0.039968  0.042420  0.030354 -0.018815      0  \n",
       "2 -0.020614  0.043133  0.040183  0.023985 -0.017030      0  \n",
       "3 -0.028291  0.015314  0.041089  0.031551  0.002842      0  \n",
       "4  0.008184 -0.020844  0.030162  0.007622  0.016819      0  \n",
       "\n",
       "[5 rows x 301 columns]"
      ]
     },
     "execution_count": 96,
     "metadata": {},
     "output_type": "execute_result"
    }
   ],
   "source": [
    "from sklearn.preprocessing import MinMaxScaler\n",
    "import pandas as pd\n",
    "df_train.head()"
   ]
  },
  {
   "cell_type": "code",
   "execution_count": 97,
   "id": "cdc89448",
   "metadata": {},
   "outputs": [],
   "source": [
    "x = df_train.drop('label', axis=1)\n",
    "y = df_train['label']"
   ]
  },
  {
   "cell_type": "code",
   "execution_count": 98,
   "id": "53d5b35e",
   "metadata": {},
   "outputs": [],
   "source": [
    "scaler = MinMaxScaler()\n",
    "X_transformed = scaler.fit_transform(x)"
   ]
  },
  {
   "cell_type": "code",
   "execution_count": 99,
   "id": "3f92b883",
   "metadata": {},
   "outputs": [],
   "source": [
    "x_train, x_test, y_train, y_test = train_test_split(X_transformed, y, test_size=0.3, random_state=42)"
   ]
  },
  {
   "cell_type": "markdown",
   "id": "ea3ad2ec",
   "metadata": {},
   "source": [
    "### SMOTE"
   ]
  },
  {
   "cell_type": "code",
   "execution_count": 100,
   "id": "ef878602",
   "metadata": {},
   "outputs": [
    {
     "name": "stdout",
     "output_type": "stream",
     "text": [
      "label\n",
      "0    170\n",
      "1    170\n",
      "2    170\n",
      "Name: count, dtype: int64\n"
     ]
    },
    {
     "data": {
      "text/html": [
       "<div>\n",
       "<style scoped>\n",
       "    .dataframe tbody tr th:only-of-type {\n",
       "        vertical-align: middle;\n",
       "    }\n",
       "\n",
       "    .dataframe tbody tr th {\n",
       "        vertical-align: top;\n",
       "    }\n",
       "\n",
       "    .dataframe thead th {\n",
       "        text-align: right;\n",
       "    }\n",
       "</style>\n",
       "<table border=\"1\" class=\"dataframe\">\n",
       "  <thead>\n",
       "    <tr style=\"text-align: right;\">\n",
       "      <th></th>\n",
       "      <th>0</th>\n",
       "      <th>1</th>\n",
       "      <th>2</th>\n",
       "      <th>3</th>\n",
       "      <th>4</th>\n",
       "      <th>5</th>\n",
       "      <th>6</th>\n",
       "      <th>7</th>\n",
       "      <th>8</th>\n",
       "      <th>9</th>\n",
       "      <th>...</th>\n",
       "      <th>291</th>\n",
       "      <th>292</th>\n",
       "      <th>293</th>\n",
       "      <th>294</th>\n",
       "      <th>295</th>\n",
       "      <th>296</th>\n",
       "      <th>297</th>\n",
       "      <th>298</th>\n",
       "      <th>299</th>\n",
       "      <th>label</th>\n",
       "    </tr>\n",
       "  </thead>\n",
       "  <tbody>\n",
       "    <tr>\n",
       "      <th>0</th>\n",
       "      <td>0.052499</td>\n",
       "      <td>0.586671</td>\n",
       "      <td>0.502850</td>\n",
       "      <td>0.840056</td>\n",
       "      <td>0.305785</td>\n",
       "      <td>0.376632</td>\n",
       "      <td>0.818967</td>\n",
       "      <td>0.218443</td>\n",
       "      <td>0.443780</td>\n",
       "      <td>0.172252</td>\n",
       "      <td>...</td>\n",
       "      <td>0.564299</td>\n",
       "      <td>0.347722</td>\n",
       "      <td>0.749196</td>\n",
       "      <td>0.580857</td>\n",
       "      <td>0.719027</td>\n",
       "      <td>0.827474</td>\n",
       "      <td>0.056172</td>\n",
       "      <td>0.659098</td>\n",
       "      <td>0.533333</td>\n",
       "      <td>0</td>\n",
       "    </tr>\n",
       "    <tr>\n",
       "      <th>1</th>\n",
       "      <td>0.269554</td>\n",
       "      <td>0.568153</td>\n",
       "      <td>0.331135</td>\n",
       "      <td>0.809361</td>\n",
       "      <td>0.400103</td>\n",
       "      <td>0.449786</td>\n",
       "      <td>0.792540</td>\n",
       "      <td>0.275808</td>\n",
       "      <td>0.548257</td>\n",
       "      <td>0.163952</td>\n",
       "      <td>...</td>\n",
       "      <td>0.634947</td>\n",
       "      <td>0.337908</td>\n",
       "      <td>0.765592</td>\n",
       "      <td>0.552422</td>\n",
       "      <td>0.651177</td>\n",
       "      <td>0.879919</td>\n",
       "      <td>0.055732</td>\n",
       "      <td>0.731068</td>\n",
       "      <td>0.493178</td>\n",
       "      <td>0</td>\n",
       "    </tr>\n",
       "    <tr>\n",
       "      <th>2</th>\n",
       "      <td>0.493023</td>\n",
       "      <td>0.561245</td>\n",
       "      <td>0.396892</td>\n",
       "      <td>0.813393</td>\n",
       "      <td>0.360089</td>\n",
       "      <td>0.533586</td>\n",
       "      <td>0.772849</td>\n",
       "      <td>0.257585</td>\n",
       "      <td>0.708530</td>\n",
       "      <td>0.196919</td>\n",
       "      <td>...</td>\n",
       "      <td>0.532458</td>\n",
       "      <td>0.388820</td>\n",
       "      <td>0.758499</td>\n",
       "      <td>0.372543</td>\n",
       "      <td>0.638686</td>\n",
       "      <td>0.887750</td>\n",
       "      <td>0.054449</td>\n",
       "      <td>0.704556</td>\n",
       "      <td>0.499886</td>\n",
       "      <td>0</td>\n",
       "    </tr>\n",
       "    <tr>\n",
       "      <th>3</th>\n",
       "      <td>0.462401</td>\n",
       "      <td>0.539471</td>\n",
       "      <td>0.342593</td>\n",
       "      <td>0.812340</td>\n",
       "      <td>0.315334</td>\n",
       "      <td>0.398527</td>\n",
       "      <td>0.922027</td>\n",
       "      <td>0.332657</td>\n",
       "      <td>0.476195</td>\n",
       "      <td>0.154858</td>\n",
       "      <td>...</td>\n",
       "      <td>0.576147</td>\n",
       "      <td>0.379767</td>\n",
       "      <td>0.702095</td>\n",
       "      <td>0.575658</td>\n",
       "      <td>0.611304</td>\n",
       "      <td>0.818923</td>\n",
       "      <td>0.054968</td>\n",
       "      <td>0.736053</td>\n",
       "      <td>0.574573</td>\n",
       "      <td>0</td>\n",
       "    </tr>\n",
       "    <tr>\n",
       "      <th>4</th>\n",
       "      <td>0.461144</td>\n",
       "      <td>0.587603</td>\n",
       "      <td>0.482785</td>\n",
       "      <td>0.839438</td>\n",
       "      <td>0.370032</td>\n",
       "      <td>0.385887</td>\n",
       "      <td>0.830406</td>\n",
       "      <td>0.376813</td>\n",
       "      <td>0.462446</td>\n",
       "      <td>0.204802</td>\n",
       "      <td>...</td>\n",
       "      <td>0.544132</td>\n",
       "      <td>0.393166</td>\n",
       "      <td>0.847573</td>\n",
       "      <td>0.508473</td>\n",
       "      <td>0.741407</td>\n",
       "      <td>0.729468</td>\n",
       "      <td>0.048703</td>\n",
       "      <td>0.636439</td>\n",
       "      <td>0.627101</td>\n",
       "      <td>0</td>\n",
       "    </tr>\n",
       "    <tr>\n",
       "      <th>...</th>\n",
       "      <td>...</td>\n",
       "      <td>...</td>\n",
       "      <td>...</td>\n",
       "      <td>...</td>\n",
       "      <td>...</td>\n",
       "      <td>...</td>\n",
       "      <td>...</td>\n",
       "      <td>...</td>\n",
       "      <td>...</td>\n",
       "      <td>...</td>\n",
       "      <td>...</td>\n",
       "      <td>...</td>\n",
       "      <td>...</td>\n",
       "      <td>...</td>\n",
       "      <td>...</td>\n",
       "      <td>...</td>\n",
       "      <td>...</td>\n",
       "      <td>...</td>\n",
       "      <td>...</td>\n",
       "      <td>...</td>\n",
       "      <td>...</td>\n",
       "    </tr>\n",
       "    <tr>\n",
       "      <th>505</th>\n",
       "      <td>0.465196</td>\n",
       "      <td>0.568847</td>\n",
       "      <td>0.384996</td>\n",
       "      <td>0.811495</td>\n",
       "      <td>0.362877</td>\n",
       "      <td>0.519792</td>\n",
       "      <td>0.796747</td>\n",
       "      <td>0.262572</td>\n",
       "      <td>0.668072</td>\n",
       "      <td>0.194281</td>\n",
       "      <td>...</td>\n",
       "      <td>0.544743</td>\n",
       "      <td>0.384552</td>\n",
       "      <td>0.763068</td>\n",
       "      <td>0.388389</td>\n",
       "      <td>0.657374</td>\n",
       "      <td>0.860627</td>\n",
       "      <td>0.048593</td>\n",
       "      <td>0.679179</td>\n",
       "      <td>0.516153</td>\n",
       "      <td>2</td>\n",
       "    </tr>\n",
       "    <tr>\n",
       "      <th>506</th>\n",
       "      <td>0.122875</td>\n",
       "      <td>0.584534</td>\n",
       "      <td>0.376644</td>\n",
       "      <td>0.895929</td>\n",
       "      <td>0.452543</td>\n",
       "      <td>0.185870</td>\n",
       "      <td>0.875623</td>\n",
       "      <td>0.218340</td>\n",
       "      <td>0.450941</td>\n",
       "      <td>0.127805</td>\n",
       "      <td>...</td>\n",
       "      <td>0.389087</td>\n",
       "      <td>0.245371</td>\n",
       "      <td>0.603904</td>\n",
       "      <td>0.726853</td>\n",
       "      <td>0.655293</td>\n",
       "      <td>0.786986</td>\n",
       "      <td>0.048666</td>\n",
       "      <td>0.723289</td>\n",
       "      <td>0.613976</td>\n",
       "      <td>2</td>\n",
       "    </tr>\n",
       "    <tr>\n",
       "      <th>507</th>\n",
       "      <td>0.383538</td>\n",
       "      <td>0.591154</td>\n",
       "      <td>0.350088</td>\n",
       "      <td>0.805927</td>\n",
       "      <td>0.371060</td>\n",
       "      <td>0.479314</td>\n",
       "      <td>0.866876</td>\n",
       "      <td>0.277208</td>\n",
       "      <td>0.549348</td>\n",
       "      <td>0.186541</td>\n",
       "      <td>...</td>\n",
       "      <td>0.580796</td>\n",
       "      <td>0.372026</td>\n",
       "      <td>0.776475</td>\n",
       "      <td>0.434887</td>\n",
       "      <td>0.712215</td>\n",
       "      <td>0.781037</td>\n",
       "      <td>0.031408</td>\n",
       "      <td>0.604710</td>\n",
       "      <td>0.563891</td>\n",
       "      <td>2</td>\n",
       "    </tr>\n",
       "    <tr>\n",
       "      <th>508</th>\n",
       "      <td>0.122875</td>\n",
       "      <td>0.584534</td>\n",
       "      <td>0.376644</td>\n",
       "      <td>0.895929</td>\n",
       "      <td>0.452543</td>\n",
       "      <td>0.185870</td>\n",
       "      <td>0.875623</td>\n",
       "      <td>0.218340</td>\n",
       "      <td>0.450941</td>\n",
       "      <td>0.127805</td>\n",
       "      <td>...</td>\n",
       "      <td>0.389087</td>\n",
       "      <td>0.245371</td>\n",
       "      <td>0.603904</td>\n",
       "      <td>0.726853</td>\n",
       "      <td>0.655293</td>\n",
       "      <td>0.786986</td>\n",
       "      <td>0.048666</td>\n",
       "      <td>0.723289</td>\n",
       "      <td>0.613976</td>\n",
       "      <td>2</td>\n",
       "    </tr>\n",
       "    <tr>\n",
       "      <th>509</th>\n",
       "      <td>0.296087</td>\n",
       "      <td>0.574686</td>\n",
       "      <td>0.367087</td>\n",
       "      <td>0.807182</td>\n",
       "      <td>0.410199</td>\n",
       "      <td>0.439872</td>\n",
       "      <td>0.839053</td>\n",
       "      <td>0.274042</td>\n",
       "      <td>0.453082</td>\n",
       "      <td>0.174478</td>\n",
       "      <td>...</td>\n",
       "      <td>0.618889</td>\n",
       "      <td>0.380998</td>\n",
       "      <td>0.753457</td>\n",
       "      <td>0.453908</td>\n",
       "      <td>0.732990</td>\n",
       "      <td>0.832949</td>\n",
       "      <td>0.050614</td>\n",
       "      <td>0.636723</td>\n",
       "      <td>0.492191</td>\n",
       "      <td>2</td>\n",
       "    </tr>\n",
       "  </tbody>\n",
       "</table>\n",
       "<p>510 rows × 301 columns</p>\n",
       "</div>"
      ],
      "text/plain": [
       "            0         1         2         3         4         5         6  \\\n",
       "0    0.052499  0.586671  0.502850  0.840056  0.305785  0.376632  0.818967   \n",
       "1    0.269554  0.568153  0.331135  0.809361  0.400103  0.449786  0.792540   \n",
       "2    0.493023  0.561245  0.396892  0.813393  0.360089  0.533586  0.772849   \n",
       "3    0.462401  0.539471  0.342593  0.812340  0.315334  0.398527  0.922027   \n",
       "4    0.461144  0.587603  0.482785  0.839438  0.370032  0.385887  0.830406   \n",
       "..        ...       ...       ...       ...       ...       ...       ...   \n",
       "505  0.465196  0.568847  0.384996  0.811495  0.362877  0.519792  0.796747   \n",
       "506  0.122875  0.584534  0.376644  0.895929  0.452543  0.185870  0.875623   \n",
       "507  0.383538  0.591154  0.350088  0.805927  0.371060  0.479314  0.866876   \n",
       "508  0.122875  0.584534  0.376644  0.895929  0.452543  0.185870  0.875623   \n",
       "509  0.296087  0.574686  0.367087  0.807182  0.410199  0.439872  0.839053   \n",
       "\n",
       "            7         8         9  ...       291       292       293  \\\n",
       "0    0.218443  0.443780  0.172252  ...  0.564299  0.347722  0.749196   \n",
       "1    0.275808  0.548257  0.163952  ...  0.634947  0.337908  0.765592   \n",
       "2    0.257585  0.708530  0.196919  ...  0.532458  0.388820  0.758499   \n",
       "3    0.332657  0.476195  0.154858  ...  0.576147  0.379767  0.702095   \n",
       "4    0.376813  0.462446  0.204802  ...  0.544132  0.393166  0.847573   \n",
       "..        ...       ...       ...  ...       ...       ...       ...   \n",
       "505  0.262572  0.668072  0.194281  ...  0.544743  0.384552  0.763068   \n",
       "506  0.218340  0.450941  0.127805  ...  0.389087  0.245371  0.603904   \n",
       "507  0.277208  0.549348  0.186541  ...  0.580796  0.372026  0.776475   \n",
       "508  0.218340  0.450941  0.127805  ...  0.389087  0.245371  0.603904   \n",
       "509  0.274042  0.453082  0.174478  ...  0.618889  0.380998  0.753457   \n",
       "\n",
       "          294       295       296       297       298       299  label  \n",
       "0    0.580857  0.719027  0.827474  0.056172  0.659098  0.533333      0  \n",
       "1    0.552422  0.651177  0.879919  0.055732  0.731068  0.493178      0  \n",
       "2    0.372543  0.638686  0.887750  0.054449  0.704556  0.499886      0  \n",
       "3    0.575658  0.611304  0.818923  0.054968  0.736053  0.574573      0  \n",
       "4    0.508473  0.741407  0.729468  0.048703  0.636439  0.627101      0  \n",
       "..        ...       ...       ...       ...       ...       ...    ...  \n",
       "505  0.388389  0.657374  0.860627  0.048593  0.679179  0.516153      2  \n",
       "506  0.726853  0.655293  0.786986  0.048666  0.723289  0.613976      2  \n",
       "507  0.434887  0.712215  0.781037  0.031408  0.604710  0.563891      2  \n",
       "508  0.726853  0.655293  0.786986  0.048666  0.723289  0.613976      2  \n",
       "509  0.453908  0.732990  0.832949  0.050614  0.636723  0.492191      2  \n",
       "\n",
       "[510 rows x 301 columns]"
      ]
     },
     "execution_count": 100,
     "metadata": {},
     "output_type": "execute_result"
    }
   ],
   "source": [
    "from imblearn.over_sampling import SMOTE\n",
    "import pandas as pd\n",
    "smote = SMOTE(random_state=42)\n",
    "X_smote, y_smote = smote.fit_resample(X_transformed, y)\n",
    "resampled_df = pd.DataFrame(X_smote, columns=x.columns)\n",
    "resampled_df['label'] = y_smote\n",
    "print(resampled_df['label'].value_counts())\n",
    "resampled_df"
   ]
  },
  {
   "cell_type": "markdown",
   "id": "3e52fbb0",
   "metadata": {},
   "source": [
    "### KNN"
   ]
  },
  {
   "cell_type": "code",
   "execution_count": 101,
   "id": "e79aa120",
   "metadata": {},
   "outputs": [
    {
     "name": "stdout",
     "output_type": "stream",
     "text": [
      "Report for train data\n",
      "Acc        : 70.05%\n",
      "Precision  : 81.25%\n",
      "Recall     : 56.72%\n",
      "F1_score   : 66.80%\n",
      "  \n",
      "  \n",
      "Report for test data\n",
      "Acc        : 55.91%\n",
      "Precision  : 34.79%\n",
      "Recall     : 34.97%\n",
      "F1_score   : 34.88%\n",
      " \n",
      "N FOLD SCORE\n",
      "The cross validation accuracy MEAN is : nan%\n",
      "The cross validation accuracy STD  is : nan\n"
     ]
    }
   ],
   "source": [
    "knn = KNeighborsClassifier(n_neighbors=5)\n",
    "knn.fit(x_train, y_train)\n",
    "y_test_preds = knn.predict(x_test)\n",
    "y_train_preds=knn.predict(x_train)\n",
    "print(f\"Report for train data\")\n",
    "evaluate_preds(y_train,y_train_preds)\n",
    "print(\"  \")\n",
    "print(\"  \")\n",
    "print(f\"Report for test data\")\n",
    "evaluate_preds(y_test,y_test_preds)\n",
    "print(\" \")\n",
    "print(f\"N FOLD SCORE\")\n",
    "cross_fun(knn,x,y)"
   ]
  },
  {
   "cell_type": "markdown",
   "id": "cc63db99",
   "metadata": {},
   "source": [
    "### Random Forest"
   ]
  },
  {
   "cell_type": "code",
   "execution_count": 102,
   "id": "89623b37",
   "metadata": {},
   "outputs": [
    {
     "name": "stdout",
     "output_type": "stream",
     "text": [
      "Report for train data\n",
      "Acc        : 77.42%\n",
      "Precision  : 80.76%\n",
      "Recall     : 69.77%\n",
      "F1_score   : 74.87%\n",
      "  \n",
      "  \n",
      "Report for test data\n",
      "Acc        : 58.06%\n",
      "Precision  : 49.12%\n",
      "Recall     : 41.94%\n",
      "F1_score   : 45.25%\n",
      " \n",
      "N FOLD SCORE\n",
      "The cross validation accuracy MEAN is : 53.87%\n",
      "The cross validation accuracy STD  is : 4.63\n"
     ]
    }
   ],
   "source": [
    "model = RandomForestClassifier()\n",
    "model.fit(x_train, y_train)\n",
    "y_test_preds = model.predict(x_test)\n",
    "y_train_preds= model.predict(x_train)\n",
    "print(f\"Report for train data\")\n",
    "evaluate_preds(y_train,y_train_preds)\n",
    "print(\"  \")\n",
    "print(\"  \")\n",
    "print(f\"Report for test data\")\n",
    "evaluate_preds(y_test,y_test_preds)\n",
    "print(\" \")\n",
    "print(f\"N FOLD SCORE\")\n",
    "cross_fun(model,x,y)"
   ]
  },
  {
   "cell_type": "markdown",
   "id": "c3c9e047",
   "metadata": {},
   "source": [
    "### Decision Tree"
   ]
  },
  {
   "cell_type": "code",
   "execution_count": 103,
   "id": "bb4a61b1",
   "metadata": {},
   "outputs": [
    {
     "name": "stdout",
     "output_type": "stream",
     "text": [
      "Report for train data\n",
      "Acc        : 77.42%\n",
      "Precision  : 80.76%\n",
      "Recall     : 69.77%\n",
      "F1_score   : 74.87%\n",
      "  \n",
      "  \n",
      "Report for test data\n",
      "Acc        : 54.84%\n",
      "Precision  : 43.03%\n",
      "Recall     : 41.67%\n",
      "F1_score   : 42.34%\n",
      " \n",
      "N FOLD SCORE\n",
      "The cross validation accuracy MEAN is : 48.06%\n",
      "The cross validation accuracy STD  is : 3.87\n"
     ]
    }
   ],
   "source": [
    "des_trees = DecisionTreeClassifier(random_state=42)\n",
    "des_trees.fit(x_train, y_train)\n",
    "y_test_preds = des_trees.predict(x_test)\n",
    "y_train_preds= des_trees.predict(x_train)\n",
    "print(f\"Report for train data\")\n",
    "evaluate_preds(y_train,y_train_preds)\n",
    "print(\"  \")\n",
    "print(\"  \")\n",
    "print(f\"Report for test data\")\n",
    "evaluate_preds(y_test,y_test_preds)\n",
    "print(\" \")\n",
    "print(f\"N FOLD SCORE\")\n",
    "cross_fun(des_trees,x,y)"
   ]
  },
  {
   "cell_type": "markdown",
   "id": "617601d0",
   "metadata": {},
   "source": [
    "### MLP"
   ]
  },
  {
   "cell_type": "code",
   "execution_count": 104,
   "id": "b63d5ec5",
   "metadata": {},
   "outputs": [
    {
     "name": "stdout",
     "output_type": "stream",
     "text": [
      "Report for train data\n",
      "Acc        : 53.92%\n",
      "Precision  : 17.97%\n",
      "Recall     : 33.33%\n",
      "F1_score   : 23.35%\n",
      "  \n",
      "  \n",
      "Report for test data\n",
      "Acc        : 56.99%\n",
      "Precision  : 19.00%\n",
      "Recall     : 33.33%\n",
      "F1_score   : 24.20%\n",
      " \n",
      "N FOLD SCORE\n",
      "The cross validation accuracy MEAN is : 50.97%\n",
      "The cross validation accuracy STD  is : 5.16\n"
     ]
    }
   ],
   "source": [
    "mlp = MLPClassifier(hidden_layer_sizes=(100, 50), max_iter=500, alpha=0.0001,\n",
    "                    solver='adam', verbose=False, random_state=42, tol=0.0001)\n",
    "mlp.fit(x_train, y_train)\n",
    "y_test_preds = mlp.predict(x_test)\n",
    "y_train_preds= mlp.predict(x_train)\n",
    "print(f\"Report for train data\")\n",
    "evaluate_preds(y_train,y_train_preds)\n",
    "print(\"  \")\n",
    "print(\"  \")\n",
    "print(f\"Report for test data\")\n",
    "evaluate_preds(y_test,y_test_preds)\n",
    "print(\" \")\n",
    "print(f\"N FOLD SCORE\")\n",
    "cross_fun(mlp,x,y)\n"
   ]
  },
  {
   "cell_type": "markdown",
   "id": "624eba4e",
   "metadata": {},
   "source": [
    "### SVM"
   ]
  },
  {
   "cell_type": "code",
   "execution_count": 105,
   "id": "8cd159ba",
   "metadata": {},
   "outputs": [
    {
     "name": "stdout",
     "output_type": "stream",
     "text": [
      "Report for train data\n",
      "Acc        : 54.38%\n",
      "Precision  : 51.39%\n",
      "Recall     : 33.77%\n",
      "F1_score   : 40.76%\n",
      "  \n",
      "  \n",
      "Report for test data\n",
      "Acc        : 56.99%\n",
      "Precision  : 19.00%\n",
      "Recall     : 33.33%\n",
      "F1_score   : 24.20%\n",
      " \n",
      "N FOLD SCORE\n",
      "The cross validation accuracy MEAN is : 52.58%\n",
      "The cross validation accuracy STD  is : 4.03\n"
     ]
    }
   ],
   "source": [
    "svm = SVC(kernel='rbf', random_state=42)\n",
    "svm.fit(x_train, y_train)\n",
    "y_test_preds = svm.predict(x_test)\n",
    "y_train_preds= svm.predict(x_train)\n",
    "print(f\"Report for train data\")\n",
    "evaluate_preds(y_train,y_train_preds)\n",
    "print(\"  \")\n",
    "print(\"  \")\n",
    "print(f\"Report for test data\")\n",
    "evaluate_preds(y_test,y_test_preds)\n",
    "print(\" \")\n",
    "print(f\"N FOLD SCORE\")\n",
    "cross_fun(svm,x,y)"
   ]
  },
  {
   "cell_type": "markdown",
   "id": "ac7ac98a",
   "metadata": {},
   "source": [
    "### LogisticRegression"
   ]
  },
  {
   "cell_type": "code",
   "execution_count": 106,
   "id": "9b4de4cc",
   "metadata": {},
   "outputs": [
    {
     "name": "stdout",
     "output_type": "stream",
     "text": [
      "Report for train data\n",
      "Acc        : 70.51%\n",
      "Precision  : 81.52%\n",
      "Recall     : 55.90%\n",
      "F1_score   : 66.32%\n",
      "  \n",
      "  \n",
      "Report for test data\n",
      "Acc        : 53.76%\n",
      "Precision  : 32.07%\n",
      "Recall     : 33.71%\n",
      "F1_score   : 32.87%\n",
      " \n",
      "N FOLD SCORE\n",
      "The cross validation accuracy MEAN is : 50.97%\n",
      "The cross validation accuracy STD  is : 4.16\n"
     ]
    }
   ],
   "source": [
    "log_reg = LogisticRegression(multi_class='multinomial', solver='lbfgs')\n",
    "log_reg.fit(x_train, y_train)\n",
    "y_test_preds =log_reg.predict(x_test)\n",
    "y_train_preds=log_reg.predict(x_train)\n",
    "print(f\"Report for train data\")\n",
    "evaluate_preds(y_train,y_train_preds)\n",
    "print(\"  \")\n",
    "print(\"  \")\n",
    "print(f\"Report for test data\")\n",
    "evaluate_preds(y_test,y_test_preds)\n",
    "print(\" \")\n",
    "print(f\"N FOLD SCORE\")\n",
    "cross_fun(log_reg,x,y)"
   ]
  },
  {
   "cell_type": "code",
   "execution_count": 107,
   "id": "2bef1fe5",
   "metadata": {},
   "outputs": [],
   "source": [
    "import matplotlib.pyplot as plt\n",
    "import seaborn as sns"
   ]
  },
  {
   "cell_type": "code",
   "execution_count": 123,
   "id": "ea1bef06",
   "metadata": {},
   "outputs": [
    {
     "data": {
      "image/png": "[encoded data removed]",
      "text/plain": [
       "<Figure size 1200x800 with 1 Axes>"
      ]
     },
     "metadata": {},
     "output_type": "display_data"
    }
   ],
   "source": [
    "metrics = {'Model': ['KNN','Random Forest','Decision Tree','MLP','SVM','Logistic Regression'], \n",
    "           'Accuracy': [62.90,76.88,76.88,76.88,62.90,58.06], \n",
    "           'Precision': [41.88,87.05,89.00,86.04,84.10,49.27], \n",
    "           'Recall': [47.68,68.39,67.95,68.39,49.87,38.87], \n",
    "           'F1 Score': [44.59,76.60,77.06,76.21,62.61,43.46]}\n",
    "\n",
    "\n",
    "df_metrics = pd.DataFrame(metrics)\n",
    "\n",
    "# Melt the DataFrame for Seaborn plotting\n",
    "df_melted = pd.melt(df_metrics, id_vars='Model', var_name='Metric', value_name='Score')\n",
    "\n",
    "# Plotting with Seaborn\n",
    "plt.figure(figsize=(12, 8))\n",
    "sns.barplot(x='Model', y='Score', hue='Metric', data=df_melted, palette='viridis')\n",
    "plt.title('Comparison of Classification Models')\n",
    "plt.xlabel('Model')\n",
    "plt.ylabel('Score')\n",
    "plt.legend(title='Metric')\n",
    "plt.show()"
   ]
  },
  {
   "cell_type": "code",
   "execution_count": 126,
   "id": "cb3079e5",
   "metadata": {},
   "outputs": [
    {
     "data": {
      "image/png": "[encoded data removed]",
      "text/plain": [
       "<Figure size 1200x800 with 1 Axes>"
      ]
     },
     "metadata": {},
     "output_type": "display_data"
    }
   ],
   "source": [
    "metrics = {'Model': ['KNN','Random Forest','Decision Tree','MLP','SVM','Logistic Regression'], \n",
    "           'Accuracy': [47.58,61.29,50.81,53.23,57.26,55.65], \n",
    "           'Precision': [32.24,40.49,31.11,30.20,27.78,24.75], \n",
    "           'Recall': [34.59,37.57,31.00,32.69,32.74,31.83], \n",
    "           'F1 Score': [33.37,38.98,31.05,31.39,30.05,27.85]}\n",
    "\n",
    "\n",
    "df_metrics = pd.DataFrame(metrics)\n",
    "\n",
    "# Melt the DataFrame for Seaborn plotting\n",
    "df_melted = pd.melt(df_metrics, id_vars='Model', var_name='Metric', value_name='Score')\n",
    "\n",
    "# Plotting with Seaborn\n",
    "plt.figure(figsize=(12, 8))\n",
    "sns.barplot(x='Model', y='Score', hue='Metric', data=df_melted, palette='viridis')\n",
    "plt.title('Comparison of Classification Models')\n",
    "plt.xlabel('Model')\n",
    "plt.ylabel('Score')\n",
    "plt.legend(title='Metric')\n",
    "plt.show()"
   ]
  },
  {
   "cell_type": "code",
   "execution_count": 110,
   "id": "89ef43ea",
   "metadata": {},
   "outputs": [
    {
     "data": {
      "image/png": "[encoded data removed]",
      "text/plain": [
       "<Figure size 1200x800 with 1 Axes>"
      ]
     },
     "metadata": {},
     "output_type": "display_data"
    }
   ],
   "source": [
    "metrics = {'Model': ['KNN','Random Forest','Decision Tree','MLP','SVM','Logistic Regression'], \n",
    "           'Accuracy': [70.05,77.42,77.42,53.92,54.38,70.51], \n",
    "           'Precision': [81.25,80.76,80.76,17.97,51.39,81.52], \n",
    "           'Recall': [56.72,69.77,69.77,33.33,33.77,55.90], \n",
    "           'F1 Score': [66.80,74.87,74.87,23.35,40.76,66.32]}\n",
    "\n",
    "\n",
    "df_metrics = pd.DataFrame(metrics)\n",
    "\n",
    "# Melt the DataFrame for Seaborn plotting\n",
    "df_melted = pd.melt(df_metrics, id_vars='Model', var_name='Metric', value_name='Score')\n",
    "\n",
    "# Plotting with Seaborn\n",
    "plt.figure(figsize=(12, 8))\n",
    "sns.barplot(x='Model', y='Score', hue='Metric', data=df_melted, palette='viridis')\n",
    "plt.title('Comparison of Classification Models')\n",
    "plt.xlabel('Model')\n",
    "plt.ylabel('Score')\n",
    "plt.legend(title='Metric')\n",
    "plt.show()"
   ]
  },
  {
   "cell_type": "code",
   "execution_count": 125,
   "id": "b50361de",
   "metadata": {},
   "outputs": [
    {
     "data": {
      "image/png": "[encoded data removed]",
      "text/plain": [
       "<Figure size 1200x800 with 1 Axes>"
      ]
     },
     "metadata": {},
     "output_type": "display_data"
    }
   ],
   "source": [
    "metrics = {'Model': ['KNN','Random Forest','Decision Tree','MLP','SVM','Logistic Regression'], \n",
    "           'Accuracy': [55.91,58.06,54.84,56.99,56.99,53.76], \n",
    "           'Precision': [34.79,49.12,43.03,19.00,19.00,32.07], \n",
    "           'Recall': [34.97,41.94,41.67,33.33,33.33,33.71], \n",
    "           'F1 Score': [34.88,45.25,42.34,24.20,24.20,32.87]}\n",
    "\n",
    "\n",
    "df_metrics = pd.DataFrame(metrics)\n",
    "\n",
    "# Melt the DataFrame for Seaborn plotting\n",
    "df_melted = pd.melt(df_metrics, id_vars='Model', var_name='Metric', value_name='Score')\n",
    "\n",
    "# Plotting with Seaborn\n",
    "plt.figure(figsize=(12, 8))\n",
    "sns.barplot(x='Model', y='Score', hue='Metric', data=df_melted, palette='viridis')\n",
    "plt.title('Comparison of Classification Models')\n",
    "plt.xlabel('Model')\n",
    "plt.ylabel('Score')\n",
    "plt.legend(title='Metric')\n",
    "plt.show()"
   ]
  },
  {
   "cell_type": "code",
   "execution_count": 112,
   "id": "2ec95f0c",
   "metadata": {},
   "outputs": [
    {
     "name": "stdout",
     "output_type": "stream",
     "text": [
      "Feature Importance:\n",
      "    Feature  Importance\n",
      "159     159    0.017061\n",
      "292     292    0.016097\n",
      "161     161    0.013336\n",
      "145     145    0.012546\n",
      "246     246    0.012295\n",
      "..      ...         ...\n",
      "98       98    0.000630\n",
      "112     112    0.000625\n",
      "144     144    0.000576\n",
      "218     218    0.000447\n",
      "88       88    0.000409\n",
      "\n",
      "[300 rows x 2 columns]\n"
     ]
    }
   ],
   "source": [
    "from sklearn.ensemble import RandomForestClassifier\n",
    "import pandas as pd\n",
    "\n",
    "# Load your balanced dataset after applying SMOTE # Replace with your actual file path\n",
    "\n",
    "# Separate features and labels\n",
    "X = resampled_df.drop('label', axis=1)\n",
    "y = resampled_df['label']\n",
    "\n",
    "# Create a Random Forest classifier\n",
    "rf_classifier = RandomForestClassifier(random_state=42)\n",
    "\n",
    "# Fit the model\n",
    "rf_classifier.fit(X, y)\n",
    "\n",
    "# Get feature importances\n",
    "feature_importances = rf_classifier.feature_importances_\n",
    "\n",
    "# Create a DataFrame with feature names and their importance scores\n",
    "feature_importance_df = pd.DataFrame({'Feature': X.columns, 'Importance': feature_importances})\n",
    "\n",
    "# Sort the DataFrame by importance in descending order\n",
    "feature_importance_df = feature_importance_df.sort_values(by='Importance', ascending=False)\n",
    "\n",
    "# Print the feature importance\n",
    "print(\"Feature Importance:\")\n",
    "print(feature_importance_df)\n"
   ]
  },
  {
   "cell_type": "code",
   "execution_count": 113,
   "id": "9fdda672",
   "metadata": {},
   "outputs": [
    {
     "name": "stdout",
     "output_type": "stream",
     "text": [
      "           63        64        65        66        67        68        69  \\\n",
      "0    0.524807  0.348607  0.482424  0.199918  0.235202  0.732831  0.721013   \n",
      "1    0.448055  0.423624  0.453909  0.115067  0.325656  0.713181  0.643961   \n",
      "2    0.502495  0.379471  0.678598  0.118574  0.320137  0.733700  0.803604   \n",
      "3    0.422459  0.288331  0.557511  0.142942  0.467059  0.728805  0.642421   \n",
      "4    0.346123  0.292871  0.381674  0.141687  0.514129  0.783124  0.717838   \n",
      "..        ...       ...       ...       ...       ...       ...       ...   \n",
      "505  0.472546  0.354160  0.643303  0.119562  0.321462  0.739441  0.781067   \n",
      "506  0.219578  0.362557  0.567782  0.329278  0.156197  0.796945  0.939808   \n",
      "507  0.384662  0.279887  0.539734  0.122461  0.325350  0.756290  0.714932   \n",
      "508  0.219578  0.362557  0.567782  0.329278  0.156197  0.796945  0.939808   \n",
      "509  0.431878  0.305991  0.442221  0.116037  0.384205  0.717608  0.630196   \n",
      "\n",
      "           70        71        72  ...       290       291       292  \\\n",
      "0    0.180194  0.404989  0.311015  ...  0.781385  0.564299  0.347722   \n",
      "1    0.197895  0.496738  0.493941  ...  0.720156  0.634947  0.337908   \n",
      "2    0.160790  0.642391  0.502065  ...  0.740964  0.532458  0.388820   \n",
      "3    0.191849  0.516769  0.660754  ...  0.746731  0.576147  0.379767   \n",
      "4    0.186637  0.558980  0.615568  ...  0.647551  0.544132  0.393166   \n",
      "..        ...       ...       ...  ...       ...       ...       ...   \n",
      "505  0.144804  0.605552  0.490433  ...  0.737699  0.544743  0.384552   \n",
      "506  0.188695  0.627138  0.429700  ...  0.698372  0.389087  0.245371   \n",
      "507  0.097893  0.497450  0.456297  ...  0.728118  0.580796  0.372026   \n",
      "508  0.188695  0.627138  0.429700  ...  0.698372  0.389087  0.245371   \n",
      "509  0.186650  0.462371  0.450512  ...  0.701793  0.618889  0.380998   \n",
      "\n",
      "          293       295       296       297       298       299  label  \n",
      "0    0.749196  0.719027  0.827474  0.056172  0.659098  0.533333      0  \n",
      "1    0.765592  0.651177  0.879919  0.055732  0.731068  0.493178      0  \n",
      "2    0.758499  0.638686  0.887750  0.054449  0.704556  0.499886      0  \n",
      "3    0.702095  0.611304  0.818923  0.054968  0.736053  0.574573      0  \n",
      "4    0.847573  0.741407  0.729468  0.048703  0.636439  0.627101      0  \n",
      "..        ...       ...       ...       ...       ...       ...    ...  \n",
      "505  0.763068  0.657374  0.860627  0.048593  0.679179  0.516153      2  \n",
      "506  0.603904  0.655293  0.786986  0.048666  0.723289  0.613976      2  \n",
      "507  0.776475  0.712215  0.781037  0.031408  0.604710  0.563891      2  \n",
      "508  0.603904  0.655293  0.786986  0.048666  0.723289  0.613976      2  \n",
      "509  0.753457  0.732990  0.832949  0.050614  0.636723  0.492191      2  \n",
      "\n",
      "[510 rows x 201 columns]\n"
     ]
    }
   ],
   "source": [
    "from sklearn.feature_selection import RFE\n",
    "\n",
    "x = resampled_df.drop(columns=['label'])\n",
    "y = resampled_df['label']\n",
    "\n",
    "    # Initialize the decision tree classifier\n",
    "clf = DecisionTreeClassifier()\n",
    "\n",
    "num_features_to_select = 200  # You can change this number as needed\n",
    "rfe = RFE(estimator=clf, n_features_to_select=num_features_to_select)\n",
    "\n",
    "    # Fit RFE to the data\n",
    "rfe.fit(x, y)\n",
    "\n",
    "    # Get the selected features\n",
    "selected_features = x.columns[rfe.support_]\n",
    "\n",
    "    # Filter the dataset to keep only the selected features and the target variable\n",
    "selected_data = resampled_df[selected_features.union(['label'])]\n",
    "print(selected_data)\n"
   ]
  },
  {
   "cell_type": "code",
   "execution_count": 114,
   "id": "e8dc2b48",
   "metadata": {},
   "outputs": [],
   "source": [
    "x = selected_data.drop('label', axis=1)# Features\n",
    "y  = selected_data['label']  # Target  s"
   ]
  },
  {
   "cell_type": "markdown",
   "id": "ac1ccf95",
   "metadata": {},
   "source": [
    "### knn"
   ]
  },
  {
   "cell_type": "code",
   "execution_count": 115,
   "id": "9b99c8bc",
   "metadata": {},
   "outputs": [
    {
     "name": "stdout",
     "output_type": "stream",
     "text": [
      "Report for train data\n",
      "Acc        : 70.05%\n",
      "Precision  : 81.25%\n",
      "Recall     : 56.72%\n",
      "F1_score   : 66.80%\n",
      "  \n",
      "  \n",
      "Report for test data\n",
      "Acc        : 55.91%\n",
      "Precision  : 34.79%\n",
      "Recall     : 34.97%\n",
      "F1_score   : 34.88%\n",
      " \n",
      "N FOLD SCORE\n",
      "The cross validation accuracy MEAN is : nan%\n",
      "The cross validation accuracy STD  is : nan\n"
     ]
    }
   ],
   "source": [
    "knn = KNeighborsClassifier(n_neighbors=5)\n",
    "knn.fit(x_train, y_train)\n",
    "y_test_preds = knn.predict(x_test)\n",
    "y_train_preds=knn.predict(x_train)\n",
    "print(f\"Report for train data\")\n",
    "evaluate_preds(y_train,y_train_preds)\n",
    "print(\"  \")\n",
    "print(\"  \")\n",
    "print(f\"Report for test data\")\n",
    "evaluate_preds(y_test,y_test_preds)\n",
    "print(\" \")\n",
    "print(f\"N FOLD SCORE\")\n",
    "cross_fun(knn,x,y)"
   ]
  },
  {
   "cell_type": "markdown",
   "id": "ac4dff38",
   "metadata": {},
   "source": [
    "### Random Forest"
   ]
  },
  {
   "cell_type": "code",
   "execution_count": 116,
   "id": "9eb04e22",
   "metadata": {},
   "outputs": [
    {
     "name": "stdout",
     "output_type": "stream",
     "text": [
      "Report for train data\n",
      "Acc        : 77.42%\n",
      "Precision  : 80.29%\n",
      "Recall     : 69.93%\n",
      "F1_score   : 74.75%\n",
      "  \n",
      "  \n",
      "Report for test data\n",
      "Acc        : 56.99%\n",
      "Precision  : 47.44%\n",
      "Recall     : 41.31%\n",
      "F1_score   : 44.16%\n",
      " \n",
      "N FOLD SCORE\n",
      "The cross validation accuracy MEAN is : 64.90%\n",
      "The cross validation accuracy STD  is : 3.74\n"
     ]
    }
   ],
   "source": [
    "model = RandomForestClassifier()\n",
    "model.fit(x_train, y_train)\n",
    "y_test_preds = model.predict(x_test)\n",
    "y_train_preds= model.predict(x_train)\n",
    "print(f\"Report for train data\")\n",
    "evaluate_preds(y_train,y_train_preds)\n",
    "print(\"  \")\n",
    "print(\"  \")\n",
    "print(f\"Report for test data\")\n",
    "evaluate_preds(y_test,y_test_preds)\n",
    "print(\" \")\n",
    "print(f\"N FOLD SCORE\")\n",
    "cross_fun(model,x,y)"
   ]
  },
  {
   "cell_type": "markdown",
   "id": "c7fce4c6",
   "metadata": {},
   "source": [
    "### Decision Tree"
   ]
  },
  {
   "cell_type": "code",
   "execution_count": 117,
   "id": "51e07355",
   "metadata": {},
   "outputs": [
    {
     "name": "stdout",
     "output_type": "stream",
     "text": [
      "Report for train data\n",
      "Acc        : 77.42%\n",
      "Precision  : 80.76%\n",
      "Recall     : 69.77%\n",
      "F1_score   : 74.87%\n",
      "  \n",
      "  \n",
      "Report for test data\n",
      "Acc        : 54.84%\n",
      "Precision  : 43.03%\n",
      "Recall     : 41.67%\n",
      "F1_score   : 42.34%\n",
      " \n",
      "N FOLD SCORE\n",
      "The cross validation accuracy MEAN is : 59.41%\n",
      "The cross validation accuracy STD  is : 4.87\n"
     ]
    }
   ],
   "source": [
    "des_trees = DecisionTreeClassifier(random_state=42)\n",
    "des_trees.fit(x_train, y_train)\n",
    "y_test_preds = des_trees.predict(x_test)\n",
    "y_train_preds= des_trees.predict(x_train)\n",
    "print(f\"Report for train data\")\n",
    "evaluate_preds(y_train,y_train_preds)\n",
    "print(\"  \")\n",
    "print(\"  \")\n",
    "print(f\"Report for test data\")\n",
    "evaluate_preds(y_test,y_test_preds)\n",
    "print(\" \")\n",
    "print(f\"N FOLD SCORE\")\n",
    "cross_fun(des_trees,x,y)"
   ]
  },
  {
   "cell_type": "markdown",
   "id": "ae9c625b",
   "metadata": {},
   "source": [
    "### MLP"
   ]
  },
  {
   "cell_type": "code",
   "execution_count": 118,
   "id": "705480cb",
   "metadata": {},
   "outputs": [
    {
     "name": "stdout",
     "output_type": "stream",
     "text": [
      "Report for train data\n",
      "Acc        : 53.92%\n",
      "Precision  : 17.97%\n",
      "Recall     : 33.33%\n",
      "F1_score   : 23.35%\n",
      "  \n",
      "  \n",
      "Report for test data\n",
      "Acc        : 56.99%\n",
      "Precision  : 19.00%\n",
      "Recall     : 33.33%\n",
      "F1_score   : 24.20%\n",
      " \n",
      "N FOLD SCORE\n",
      "The cross validation accuracy MEAN is : 36.08%\n",
      "The cross validation accuracy STD  is : 5.66\n"
     ]
    }
   ],
   "source": [
    "mlp = MLPClassifier(hidden_layer_sizes=(100, 50), max_iter=500, alpha=0.0001,\n",
    "                    solver='adam', verbose=False, random_state=42, tol=0.0001)\n",
    "mlp.fit(x_train, y_train)\n",
    "y_test_preds = mlp.predict(x_test)\n",
    "y_train_preds= mlp.predict(x_train)\n",
    "print(f\"Report for train data\")\n",
    "evaluate_preds(y_train,y_train_preds)\n",
    "print(\"  \")\n",
    "print(\"  \")\n",
    "print(f\"Report for test data\")\n",
    "evaluate_preds(y_test,y_test_preds)\n",
    "print(\" \")\n",
    "print(f\"N FOLD SCORE\")\n",
    "cross_fun(mlp,x,y)\n"
   ]
  },
  {
   "cell_type": "markdown",
   "id": "3c7ba307",
   "metadata": {},
   "source": [
    "### SVM"
   ]
  },
  {
   "cell_type": "code",
   "execution_count": 119,
   "id": "9f24fde1",
   "metadata": {},
   "outputs": [
    {
     "name": "stdout",
     "output_type": "stream",
     "text": [
      "Report for train data\n",
      "Acc        : 54.38%\n",
      "Precision  : 51.39%\n",
      "Recall     : 33.77%\n",
      "F1_score   : 40.76%\n",
      "  \n",
      "  \n",
      "Report for test data\n",
      "Acc        : 56.99%\n",
      "Precision  : 19.00%\n",
      "Recall     : 33.33%\n",
      "F1_score   : 24.20%\n",
      " \n",
      "N FOLD SCORE\n",
      "The cross validation accuracy MEAN is : 51.76%\n",
      "The cross validation accuracy STD  is : 3.25\n"
     ]
    }
   ],
   "source": [
    "svm = SVC(kernel='rbf', random_state=42)\n",
    "svm.fit(x_train, y_train)\n",
    "y_test_preds = svm.predict(x_test)\n",
    "y_train_preds= svm.predict(x_train)\n",
    "print(f\"Report for train data\")\n",
    "evaluate_preds(y_train,y_train_preds)\n",
    "print(\"  \")\n",
    "print(\"  \")\n",
    "print(f\"Report for test data\")\n",
    "evaluate_preds(y_test,y_test_preds)\n",
    "print(\" \")\n",
    "print(f\"N FOLD SCORE\")\n",
    "cross_fun(svm,x,y)"
   ]
  },
  {
   "cell_type": "markdown",
   "id": "4814dbbe",
   "metadata": {},
   "source": [
    "### Logistic Regression"
   ]
  },
  {
   "cell_type": "code",
   "execution_count": 120,
   "id": "64402a71",
   "metadata": {},
   "outputs": [
    {
     "name": "stdout",
     "output_type": "stream",
     "text": [
      "Report for train data\n",
      "Acc        : 70.51%\n",
      "Precision  : 81.52%\n",
      "Recall     : 55.90%\n",
      "F1_score   : 66.32%\n",
      "  \n",
      "  \n",
      "Report for test data\n",
      "Acc        : 53.76%\n",
      "Precision  : 32.07%\n",
      "Recall     : 33.71%\n",
      "F1_score   : 32.87%\n",
      " \n",
      "N FOLD SCORE\n",
      "The cross validation accuracy MEAN is : 60.00%\n",
      "The cross validation accuracy STD  is : 4.74\n"
     ]
    }
   ],
   "source": [
    "log_reg = LogisticRegression(multi_class='multinomial', solver='lbfgs')\n",
    "log_reg.fit(x_train, y_train)\n",
    "y_test_preds =log_reg.predict(x_test)\n",
    "y_train_preds=log_reg.predict(x_train)\n",
    "print(f\"Report for train data\")\n",
    "evaluate_preds(y_train,y_train_preds)\n",
    "print(\"  \")\n",
    "print(\"  \")\n",
    "print(f\"Report for test data\")\n",
    "evaluate_preds(y_test,y_test_preds)\n",
    "print(\" \")\n",
    "print(f\"N FOLD SCORE\")\n",
    "cross_fun(log_reg,x,y)"
   ]
  },
  {
   "cell_type": "code",
   "execution_count": 121,
   "id": "f4e3f523",
   "metadata": {},
   "outputs": [
    {
     "data": {
      "image/png": "[encoded data removed]",
      "text/plain": [
       "<Figure size 1200x800 with 1 Axes>"
      ]
     },
     "metadata": {},
     "output_type": "display_data"
    }
   ],
   "source": [
    "metrics = {'Model': ['KNN','Random Forest','Decision Tree','MLP','SVM','Logistic Regression'], \n",
    "           'Accuracy': [70.05,77.42,77.42,77.42,54.38,70.51], \n",
    "           'Precision': [81.25, 80.29,80.76,80.76,51.39,81.52], \n",
    "           'Recall': [56.72,69.93,69.77,69.77,33.77,55.90], \n",
    "           'F1 Score': [ 66.80,74.75,74.87,74.87,40.76,66.32]}\n",
    "\n",
    "\n",
    "df_metrics = pd.DataFrame(metrics)\n",
    "\n",
    "# Melt the DataFrame for Seaborn plotting\n",
    "df_melted = pd.melt(df_metrics, id_vars='Model', var_name='Metric', value_name='Score')\n",
    "\n",
    "# Plotting with Seaborn\n",
    "plt.figure(figsize=(12, 8))\n",
    "sns.barplot(x='Model', y='Score', hue='Metric', data=df_melted, palette='viridis')\n",
    "plt.title('Comparison of Classification Models')\n",
    "plt.xlabel('Model')\n",
    "plt.ylabel('Score')\n",
    "plt.legend(title='Metric')\n",
    "plt.show()"
   ]
  },
  {
   "cell_type": "code",
   "execution_count": 122,
   "id": "5e2c9904",
   "metadata": {},
   "outputs": [
    {
     "data": {
      "image/png": "[encoded data removed]",
      "text/plain": [
       "<Figure size 1200x800 with 1 Axes>"
      ]
     },
     "metadata": {},
     "output_type": "display_data"
    }
   ],
   "source": [
    "metrics = {'Model': ['KNN','Random Forest','Decision Tree','MLP','SVM','Logistic Regression'], \n",
    "           'Accuracy': [55.91,56.99,54.84,54.84,56.99,53.76], \n",
    "           'Precision': [34.79,47.44,43.03,43.03,19.00,32.07], \n",
    "           'Recall': [56.72,69.93,69.77,69.77,33.77,55.90], \n",
    "           'F1 Score': [34.88,44.16,42.34,42.34,24.20,32.87]}\n",
    "\n",
    "\n",
    "df_metrics = pd.DataFrame(metrics)\n",
    "\n",
    "# Melt the DataFrame for Seaborn plotting\n",
    "df_melted = pd.melt(df_metrics, id_vars='Model', var_name='Metric', value_name='Score')\n",
    "\n",
    "# Plotting with Seaborn\n",
    "plt.figure(figsize=(12, 8))\n",
    "sns.barplot(x='Model', y='Score', hue='Metric', data=df_melted, palette='viridis')\n",
    "plt.title('Comparison of Classification Models')\n",
    "plt.xlabel('Model')\n",
    "plt.ylabel('Score')\n",
    "plt.legend(title='Metric')\n",
    "plt.show()"
   ]
  },
  {
   "cell_type": "code",
   "execution_count": null,
   "id": "a1605172",
   "metadata": {},
   "outputs": [],
   "source": []
  }
 ],
 "metadata": {
  "colab": {
   "collapsed_sections": [
    "1c7eb737",
    "a4473782",
    "56a87eb8",
    "f41f3575"
   ],
   "provenance": []
  },
  "kernelspec": {
   "display_name": "Python 3 (ipykernel)",
   "language": "python",
   "name": "python3"
  },
  "language_info": {
   "codemirror_mode": {
    "name": "ipython",
    "version": 3
   },
   "file_extension": ".py",
   "mimetype": "text/x-python",
   "name": "python",
   "nbconvert_exporter": "python",
   "pygments_lexer": "ipython3",
   "version": "3.11.5"
  }
 },
 "nbformat": 4,
 "nbformat_minor": 5
}
